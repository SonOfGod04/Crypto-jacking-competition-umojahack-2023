{
 "cells": [
  {
   "cell_type": "markdown",
   "metadata": {
    "id": "nZkVo_9OcfSI"
   },
   "source": [
    "<h2><center> Welcome to the UmojaHack Africa 2023 Cryptojacking Detection Challenge Starter Notebook</h2></center>\n",
    "<figure>\n",
    "<center><img src =\"https://drive.google.com/uc?export=view&id=1afxycLZz1AovI0MjqEIiXyziEVWnUkNG\" width = \"750\" height = '500' alt=\"Cryptojacking Detection Challenge\"/>\n",
    "\n",
    "*About the problem*\n",
    "> Cryptojacking is a cyber-attack utilizing malicious scripts similar to those from large cryptocurrency houses to illegally mine data without users being aware. These attacks are stealthy and difficult to detect or analyze, often leading to decreased computing speeds for users as well as crashes due to straining of computational resources.\n",
    "\n",
    "\n",
    "*The objective of this challenge is*:\n",
    "> classify network activity from various websites as either cryptojacking or not based on features related to both network-based and host-based data.\n",
    "\n"
   ]
  },
  {
   "cell_type": "markdown",
   "metadata": {
    "id": "GlmJg6TQ0Thd"
   },
   "source": [
    "## Table of contents:\n",
    "\n",
    "1. [Importing Libraries](#Libraries)\n",
    "2. [Loading Data](#Data)\n",
    "3. [Statistical Summaries](#Statistics)\n",
    "4. [Missing Values and Duplicates](#Missing)\n",
    "5. [Target Distribution](#Engineering)\n",
    "6. [Modelling](#Modelling)"
   ]
  },
  {
   "cell_type": "markdown",
   "metadata": {
    "id": "I8Kdz7a25j4P"
   },
   "source": [
    "<a name=\"Libraries\"></a>\n",
    "## 1. Importing Libraries\n"
   ]
  },
  {
   "cell_type": "code",
   "execution_count": 1,
   "metadata": {
    "id": "2ojddGi7jVnG"
   },
   "outputs": [],
   "source": [
    "SEED = 1221\n",
    "# Import libraries\n",
    "import pandas as pd\n",
    "import numpy as np\n",
    "\n",
    "import seaborn as sns\n",
    "import matplotlib.pyplot as plt\n",
    "from sklearn.model_selection import train_test_split\n",
    "\n",
    "\n",
    "from sklearn.metrics import classification_report\n",
    "from sklearn.linear_model import LogisticRegression\n",
    "from sklearn.preprocessing import StandardScaler"
   ]
  },
  {
   "cell_type": "code",
   "execution_count": 2,
   "metadata": {},
   "outputs": [],
   "source": [
    "from sklearn.cluster import KMeans #For clustering\n",
    "from scipy.stats import mannwhitneyu, shapiro, ttest_ind #For statistical tests\n",
    "from statsmodels.stats import weightstats as stests #For statistical tests\n",
    "from sklearn.preprocessing import MinMaxScaler, RobustScaler, StandardScaler #For Scaling\n",
    "from sklearn.preprocessing import LabelEncoder, OneHotEncoder #For Encoding\n",
    "import category_encoders as ce #For Encoding\n",
    "from sklearn.decomposition import PCA #For Principal Components Analysis\n",
    "from sklearn.feature_selection import SelectKBest, chi2, f_classif, f_regression #To check for feature importance"
   ]
  },
  {
   "cell_type": "code",
   "execution_count": 3,
   "metadata": {},
   "outputs": [],
   "source": [
    "from sklearn.model_selection import train_test_split, KFold, StratifiedKFold, RepeatedStratifiedKFold, RepeatedKFold #To split data\n",
    "from sklearn.ensemble import RandomForestRegressor,RandomForestClassifier,GradientBoostingClassifier,GradientBoostingRegressor# Algorithms for predictions\n",
    "from sklearn.neighbors import KNeighborsClassifier, KNeighborsRegressor #Algorithms for prediction\n",
    "from sklearn.linear_model import LinearRegression, LogisticRegression #Algorithms for predictions\n",
    "from sklearn.metrics import mean_squared_error, r2_score, accuracy_score, f1_score, classification_report, confusion_matrix #For evaluating built models\n",
    "from sklearn.ensemble import StackingClassifier, StackingRegressor\n",
    "from sklearn.model_selection import cross_val_score\n",
    "from mlxtend.preprocessing import TransactionEncoder\n",
    "from sklearn.model_selection import GridSearchCV\n",
    "from sklearn.svm import SVC\n",
    "from xgboost import XGBClassifier\n",
    "from sklearn.tree import DecisionTreeClassifier\n",
    "\n",
    "#check the classifier later"
   ]
  },
  {
   "cell_type": "markdown",
   "metadata": {},
   "source": [
    "## Declaring Functions to be used"
   ]
  },
  {
   "cell_type": "code",
   "execution_count": 4,
   "metadata": {},
   "outputs": [],
   "source": [
    "def Check_missing_percentage(data):\n",
    "    '''\n",
    "This function checks for the percentage of missing values in columns of a dataset,It takes dataframes as only parameter. It is implemented using some\n",
    "python pandas and python object methods, The isnull() method checks for if the column data at that index is missing, which\n",
    "returns 1 for True and Zero for false, then the .sum() method adds all the 1s together, (/) divides the sum of the 1s by the\n",
    "total length of the features gotten using the len() function, then the result is multiplied by 100 to get the percentage and\n",
    "appended to variable (miss), miss is then returned in the function\n",
    "    '''\n",
    "    miss = ((data.isnull().sum())/len(data))*100 # Compute the percentage and assign it to a variable\n",
    "    return miss # Return variable"
   ]
  },
  {
   "cell_type": "code",
   "execution_count": 5,
   "metadata": {},
   "outputs": [],
   "source": [
    "def fill_missing(data, use_method='ffill', way='dataframe', column=None):\n",
    "    '''\n",
    "Function to fill missing values in datasets or individual features, with various methods and ways. It takes in as parameters,\n",
    "the dataframe, method to be used in filling for missing values, set to ffill by default, ways it should be done,either the\n",
    "whole dataframe or column wise set to dataframe by default, then column name which was set to none by default.\n",
    "\n",
    "It uses pandas fillna method for filling for missing values and which takes in methods which are :\n",
    "ffill = forward fill,  backfill == backward fill, median is using the 50th percentile score to fill it, mean is using the\n",
    "mean score to fill, and mode is using modal score to fill it. Then setting inplace == True to make it permanent on the\n",
    "dataframe\n",
    "    '''\n",
    "    if way == 'dataframe': # Condition to check way as dataframe\n",
    "        if use_method == 'ffill': # Condition to check for use method as forward fill\n",
    "            data.fillna(method='ffill', inplace = True) # forward fill the missing value\n",
    "            return data.isnull().sum() # Return the sum of missing values\n",
    "        elif use_method == 'backfill': # Condition to check for use method as backward fill\n",
    "            data.fillna(method='backfill', inplace = True) # backward fill the missing value\n",
    "            return data.isnull().sum() # Return the sum of missing values\n",
    "        else :\n",
    "            data.fillna(use_method, inplace = True) # use impute to fill the missing value\n",
    "            return data.isnull().sum() # Return the sum of missing values\n",
    "    elif way == 'feature': # Condition to check way as feature\n",
    "        if use_method == 'ffill': # Condition to check for use method as forward fill\n",
    "            data[column].fillna(method='ffill', inplace = True) # forward fill the missing value\n",
    "            return data[column].isnull().sum() # Return the sum of missing values\n",
    "        elif use_method == 'backfill': # Condition to check for use method as backward fill\n",
    "            data[column].fillna(method='backfill', inplace = True) # backward fill the missing value\n",
    "            return data[column].isnull().sum() # Return the sum of missing values\n",
    "        elif use_method == 'median': # Condition to check for use method as median\n",
    "            data[column].fillna(data[column].median(), inplace = True) # Use median to fill the missing value\n",
    "            return data[column].isnull().sum() # Return the sum of missing values\n",
    "        elif use_method == 'mean': # Condition to check for use method as mean\n",
    "            data[column].fillna(data[column].mean(), inplace = True) # Use mean to fill the missing value\n",
    "            return data[column].isnull().sum() # Return the sum of missing values\n",
    "        elif use_method == 'mode': # Condition to check for use method as mode\n",
    "            data[column].fillna(data[column].mode()[0], inplace = True) # Use mode to fill the missing value\n",
    "            return data[column].isnull().sum() # Return the sum of missing values\n",
    "        else :\n",
    "            data[column].fillna(use_method, inplace = True) # use impute to fill the missing value\n",
    "            return data[column].isnull().sum() # Return the sum of missing values\n",
    "        "
   ]
  },
  {
   "cell_type": "code",
   "execution_count": 6,
   "metadata": {},
   "outputs": [],
   "source": [
    "def Fix_outliers(data, feature, method, upper = None, lower = None, impute = None):\n",
    "    \"\"\"\n",
    "Function for fixing outliers using various methods, It takes the dataframe, columns,method for fixing, upper percentile\n",
    "value none by default,lower percentile value, none by default and impute none by default as parameters. \n",
    "\n",
    "There are three methods for fixing in this function :\n",
    "Imputation = Using another constant value to replace the outlier\n",
    "Capping = Replacing outliers with the upper and lower percentile values\n",
    "Log_transform = Getting the logrithm values of the column values and using it to transform the values\n",
    "    \"\"\"\n",
    "    if method.lower() == 'imputation': #Checking condition for imputation\n",
    "        Q1 = data[feature].quantile(lower) # Storing value for upper limit\n",
    "        Q3 = data[feature].quantile(upper) # Storing values for lower limit\n",
    "        print(data[feature].skew()) # Printing the skewness of the feature\n",
    "        data[feature] = np.where(data[feature] < Q1, impute, data[feature] ) #Replace outliers with an imputted value and assign it to the feature,lower limit\n",
    "        data[feature] = np.where(data[feature] > Q3, impute, data[feature] )# Replace outlierswith an imputted and assign it to feature, upper limit\n",
    "        print(df[feature].skew())# Printing the skewness of the feature afterwards\n",
    "        return data[feature] # Return the fixed feature\n",
    "    elif method.lower() == 'capping': # Checking condition for capping\n",
    "        Q1 = data[feature].quantile(lower) #Assign value for lower limit\n",
    "        Q3 = data[feature].quantile(upper) # Assign value for upper limit\n",
    "        print(data[feature].skew()) # Print the skewness of the feature\n",
    "        data[feature] = np.where(data[feature] < Q1, Q1, data[feature] ) #Replace outliers with the lower limit value and assign it to the feature\n",
    "        data[feature] = np.where(data[feature] > Q3, Q3, data[feature] ) # Replace outliers with the upper limit value and assign it to the feature\n",
    "        print(data[feature].skew()) # Print the skewness of the feature\n",
    "        return data[feature] #Return the fixed feature\n",
    "    elif method.lower() == 'log_transform': # Checking condition for log_transform\n",
    "        print(data[feature].skew()) #Print skewness of the feature\n",
    "        data[feature] = np.log(data[feature]) + 1 # Performing the log transformation\n",
    "        print(data[feature].skew()) # print the skewness after fixing\n",
    "        return data[feature] # Return the feature"
   ]
  },
  {
   "cell_type": "code",
   "execution_count": 7,
   "metadata": {},
   "outputs": [],
   "source": [
    "def lets_encode(df, cols, package, encoder = None) :\n",
    "    \"\"\"\n",
    "Function For Encoding Categorical Features, various methods for encoding are included in this function, to choose a\n",
    "method,\n",
    "Parameters :\n",
    "df = Dataframe\n",
    "cols = column or columns needed\n",
    "package = method of packages to use which can be : le, ce_oe,oh,du,fe,mt\n",
    "we provide the following short form of methods with its meaning as follows :\n",
    "le = Label Encoding\n",
    "ce_oe = categorical encoders Ordinal Encoding\n",
    "oh = One hot encoding\n",
    "du = dummy encoding\n",
    "fe = frequency encoding\n",
    "mt = mean target encoding\n",
    "\n",
    "encoder = external method needed for encoding\n",
    "    \"\"\"\n",
    "    encoded_df = df[cols] #Define dataframe to be encoded\n",
    "    if package == \"le\" : # Check for the condition of label encoding\n",
    "        encoded_df = encoded_df.apply(encoder.fit_transform) # Encode the dataframe\n",
    "        return encoded_df # return the encoded feature\n",
    "    elif package == \"ce_oe\" : # Check for categorical encoding condition\n",
    "        encoded_df = encoder.fit_transform(encoded_df) # Fit and transform the data using categorical encoding\n",
    "        return encoded_df # Return encoded feature\n",
    "    elif package == \"oh\" : # Check for one hot encoding condition\n",
    "        encoded_df = pd.DataFrame(encoder.fit_transform(encoded_df).toarray()) # fit and transform features using one hot encoding\n",
    "        return encoded_df # Return the encoded data\n",
    "    elif package == \"du\" : # Check condition for get dummy \n",
    "        encoded_df = pd.get_dummies(df[cols]) # Dummy the features\n",
    "        return encoded_df # Return encoded features\n",
    "    elif package == 'fe' : # Check for the frequency encoder\n",
    "        encoded_df = df[cols] # Create a dataframe for the encoder\n",
    "        y = encoded_df.groupby(cols).size().reset_index() # Groupby the frequency of the values of the features to encode\n",
    "        y.columns = [cols[0], 'freq'+cols[0]] # Change the column names to the groupby names\n",
    "        encoded_df = pd.merge(encoded_df,y,on = cols[0], how = 'left') # Merge with dataframe\n",
    "        return encoded_df # return encoded features\n",
    "    elif package == \"mt\" : #Check for mean target encoding\n",
    "        encoded_df = df[cols] # Create its dataframe\n",
    "        x = encoded_df.groupby([cols[0]])[cols[1]].sum().reset_index() # Get the feature sum by grouping by the feature and target then getting the sum.\n",
    "        x = x.rename(columns={cols[1]:cols[0]+\"_\"+cols[1]+\"_sum\"})# rename the columns to the grouped columns names\n",
    "\n",
    "        y = encoded_df.groupby([cols[0]])[cols[1]].count().reset_index()# get feature counts by groupby the column to encode and the target\n",
    "        y = y.rename(columns={cols[1] :cols[0]+\"_\"+cols[1]+\"_Count\"}) # Rename the count columns\n",
    "\n",
    "        z = pd.merge(x,y,on = cols[0], how = 'inner') # Merge the columns together\n",
    "\n",
    "        z['Target_enc_levels'] = z[cols[0]+\"_\"+cols[1]+\"_sum\"]/z[cols[0]+\"_\"+cols[1]+\"_Count\"] # Create a new feature by geting the mean \n",
    "        encoded_df = pd.merge(encoded_df,z,on = cols[0], how = 'left') # Merge it with the dataframe\n",
    "\n",
    "        return encoded_df # Return the encoded feature"
   ]
  },
  {
   "cell_type": "code",
   "execution_count": 8,
   "metadata": {},
   "outputs": [],
   "source": [
    "def Scaler(df, cols, method):\n",
    "    \"\"\"\n",
    "Function for scaling the dataset using varieties of methods, This function takes in the dataframe, columns to scale and the\n",
    "methods to use for scaling them, processes and returns a scaled data\n",
    "The methods are :\n",
    "mmx == Minmax Scaler\n",
    "sts == Standard Scaler\n",
    "rbs == Robust Scaler\n",
    "    \"\"\"\n",
    "    scaled_df = df[cols] # Create a dataframe to scale\n",
    "    if method.lower() == \"mmx\": # Check for minmax scaling condition\n",
    "        scaler = MinMaxScaler() # Define the scaler\n",
    "        scaled_df = pd.DataFrame(scaler.fit_transform(scaled_df)) # Fit and transform data with the scaler\n",
    "        scaled_df.columns = cols # Assign column names to the scaled columns\n",
    "        return scaled_df # Return scaled data\n",
    "    elif method.lower() == \"sts\": # Check for standard scaler condition\n",
    "        scaler = StandardScaler() # Define the scaler\n",
    "        scaled_df = pd.DataFrame(scaler.fit_transform(scaled_df)) # Fit and transform the data using the scaler\n",
    "        scaled_df.columns = cols # Assign column names to the scaled data\n",
    "        return scaled_df# Return the dataframe\n",
    "    elif method.lower() == \"rbs\": # Check condition for robust scaler\n",
    "        scaler = RobustScaler() # Define the scaler\n",
    "        scaled_df = pd.DataFrame(scaler.fit_transform(scaled_df))# fit and transform the data using the scaler\n",
    "        scaled_df.columns = cols # Assign column names to the dataframe\n",
    "        return scaled_df # Return dataframe"
   ]
  },
  {
   "cell_type": "code",
   "execution_count": 9,
   "metadata": {},
   "outputs": [],
   "source": [
    "def Get_summary_stats_Numerical(data, columns) :\n",
    "    \"\"\"\n",
    "Function to analyse features without using graphs, it takes dataframe as the parameter and uses pandas methods to perform the\n",
    "EDA.\n",
    "    \"\"\"\n",
    "    stats = data[columns] # Create the stats dataframe\n",
    "    for i in stats.columns : # Loop through columns\n",
    "        print(f'column {i} has {stats[i].nunique()} Unique Values') # Print the unique values in features\n",
    "        print(stats[i].value_counts().nlargest(10))# print the value_counts of the features\n",
    "        print(f' The mean of the frequency of {i} is : {stats[i].value_counts().mean()}')# print the mean of value_counts of the features\n",
    "        mode_score = stats[i].mode()[0] # Get the modal score of features\n",
    "        print(f'modal value for {i} is {mode_score}') # Print the modal score of the feature\n",
    "        print(f' The frequency for {mode_score} is : {stats[i].value_counts()[mode_score]}') # To get the frequency of the modal score\n",
    "        modal_percent = (stats[i].value_counts()[mode_score]/len(stats[i]) * 100) # To calculate the modal percentage\n",
    "        print(f'The percentage of the modal score in the distribution is {modal_percent}') # Print the modal percentage\n",
    "        mode_score = stats[i].mode()[0] # Get the modal score of features\n",
    "        print(stats[i].describe())# Print thre summary statistics of the features using describe method\n",
    "        print('_________________________________________') #print demacation."
   ]
  },
  {
   "cell_type": "code",
   "execution_count": 10,
   "metadata": {},
   "outputs": [],
   "source": [
    "def Convert(data, feature, classes) :\n",
    "    \"\"\"\n",
    "Function for changing values in features, It takes data, feature and class to change and change to\n",
    "    \"\"\"\n",
    "    for k,v in classes.items() : # loop through the dictionary\n",
    "        data[feature].replace(k,v,inplace=True) # Do the replacement\n",
    "    return data[feature] # Return the features"
   ]
  },
  {
   "cell_type": "code",
   "execution_count": 11,
   "metadata": {},
   "outputs": [],
   "source": [
    "def Tests_numerical(data, feature, test) :\n",
    "    \"\"\"\n",
    "Function for performing Statistical tests in our datasets, It takes dataframe, columns and test as to specify the tests been performed\n",
    "There are four tests considered in this function, these are :\n",
    "ttest == students ttest for testing for two data\n",
    "shapiro == for test the distribution of the data feature if it is normally distributed or not\n",
    "mannwhiteny == mannwhitenyu for testing effect of a data over the other\n",
    "ztest == test for data of two different normally distribet data feature\n",
    "\n",
    "    \"\"\"\n",
    "    if test.lower() == 'ttest' : # Check condition for ttest\n",
    "        ttest_test,pval = ttest_ind(data[0][feature],data[1][feature]) # Apply ttest to the data feature\n",
    "        print(\"p-value for ttest significance is: \", pval) # print the p-value\n",
    "        if pval <0.05: # Condition for p_values \n",
    "            return \"we reject null hypothesis for ttest\" # if the value less than the threshold P_value\n",
    "        else: \n",
    "            return \"we accept null hypothesis for ttest\" # if the  P_value is greater than threshold P_value\n",
    "    elif test.lower() == 'shapiro': # Condition for shapiro\n",
    "        shapiro_test,pval = shapiro(data[feature]) # Apply shapiro to the data feature\n",
    "        print(\"p-value for significance is: \", pval)# print the p-value\n",
    "        if pval <0.05:\n",
    "            return \"we reject null hypothesis for shapiro\"# if the value less than the threshold P_value\n",
    "        else:\n",
    "            return \"we accept null hypothesis for shapiro\"# if the  P_value is greater than threshold P_value\n",
    "    elif test.lower() == 'mannwhitneyu': # Condition for mannwhitneyu\n",
    "        mannwhitneyu_test,pval = mannwhitneyu(data[0][feature],data[1][feature])# Apply manwhitneyu to the data feature\n",
    "        print(\"p-value for mannwhitneyu significance is: \", pval) # print the p-value \n",
    "        if pval <0.05:\n",
    "            return \"we reject null hypothesis for mannwhitneyu\" # if the value less than the threshold P_value\n",
    "        else:\n",
    "            return \"we accept null hypothesis for mannwhitneyu\" # if the  P_value is greater than threshold P_value\n",
    "    elif test.lower() == 'ztest':# Condition for ztest\n",
    "        ztest_test ,pval = stests.ztest(data[0][feature], x2=data[1][feature], value=0,alternative='two-sided')# Apply z_score to the data feature\n",
    "        print(\"p-value for ztest significance is: \", pval) # print the p-value \n",
    "        if pval<0.05:\n",
    "            return \"reject null hypothesis for ztest\" # if the value less than the threshold P_value\n",
    "        else:\n",
    "            return \"accept null hypothesis for ztest\" # if the  P_value is greater than threshold P_value\n",
    "    else :\n",
    "        return \"The test you chose if not available\" # Check for wrong choice"
   ]
  },
  {
   "cell_type": "code",
   "execution_count": 12,
   "metadata": {},
   "outputs": [],
   "source": [
    "def Join_two_dummied(data:pd.DataFrame, feature:list, prefix:list,df_name:list, new_data:str):\n",
    "    \"\"\"\n",
    "    The function is to join two dummied features together, it takes as parameter, data, feature list, prefix list, df_name list\n",
    "    and new data.\n",
    "    \"\"\"\n",
    "    df_name[0] = pd.get_dummies(data[feature[0]],prefix=prefix[0])\n",
    "    df_name[1] = pd.get_dummies(data[feature[1]],prefix=prefix[1])\n",
    "    new_data = df_name[0].join(df_name[1])\n",
    "    return new_data"
   ]
  },
  {
   "cell_type": "code",
   "execution_count": 13,
   "metadata": {},
   "outputs": [],
   "source": [
    "def Cluster(data, init, n_cluster, n_init, max_iter, random_state ) :\n",
    "    \"\"\"\n",
    "Function for performing KMeans cluster, a clustering algorithm in Machine Learning, cluster algorithms using distance measures\n",
    "It takes parameters as dataframe, initial value, number of clusters to form, number of initial values, maximum iterations,\n",
    "random state\n",
    "    \"\"\"\n",
    "    print(data.isnull().sum()) # Check for its missing values\n",
    "    kmeans = KMeans(init = init, n_clusters = n_cluster, n_init = n_init, max_iter = max_iter, random_state = random_state) #Initialize kmean clustering\n",
    "    kmeans.fit(data) # Fit data into the initialised dataframe\n",
    "    return kmeans.labels_ # Return label results"
   ]
  },
  {
   "cell_type": "code",
   "execution_count": 14,
   "metadata": {},
   "outputs": [],
   "source": [
    "def Elbow_method(data, n, init, n_init, max_iter, random_state):\n",
    "    \"\"\"\n",
    "Fuction to implement a Method to determine the optimal value of number of clusters in KMeans clustering, It takes in dataframe,\n",
    "number of clusters, initial_value, number of intialized, maximum iteration and random values\n",
    "    \"\"\"\n",
    "    kmeans_kwargs ={\n",
    "        'init': init,\n",
    "        'n_init': n_init,\n",
    "        'max_iter': max_iter,\n",
    "        'random_state': random_state\n",
    "    } # Initialise Kmeans algorithm\n",
    "    sse = [] # empty list to store number of K\n",
    "    for i in range(1,n): # loop through n \n",
    "        kmeans = KMeans(n_clusters=i, **kmeans_kwargs) # Initialize Kmeans\n",
    "        kmeans.fit(data)# fit in the data\n",
    "        sse.append(kmeans.inertia_) #append the number of inertia\n",
    "    plt.style.use(\"fivethirtyeight\") # Plotting style\n",
    "    plt.plot(range(1,n),sse) # plot graph\n",
    "    plt.xticks(range(1,n)) # x axis range\n",
    "    plt.xlabel(\"Number of Clusters\")  # Label x axis\n",
    "    plt.ylabel(\"SSE\") # Label y axis\n",
    "    plt.show() # show plot"
   ]
  },
  {
   "cell_type": "code",
   "execution_count": 15,
   "metadata": {},
   "outputs": [],
   "source": [
    "def PrincipalCA(data, n_components, columns):\n",
    "    \"\"\"\n",
    "Function to perform the Principal Component analysis on the dataframe, A feature engineering technique that uses distance\n",
    "to get component from data, and take care of overlaping by creating a distance. Parameters are, dataframe, amount of component \n",
    "columns to be derived and the initial columns names\n",
    "    \"\"\"\n",
    "    pca = PCA(n_components=n_components) # Initializing PCA\n",
    "    principalComponents = pca.fit_transform(data) # Fit and transform data using the initialised PCA\n",
    "    principalDf = pd.DataFrame(data= principalComponents,columns = columns) # Convert the transformed data to a dataset\n",
    "    return principalDf # Return transformed dataframe"
   ]
  },
  {
   "cell_type": "code",
   "execution_count": 16,
   "metadata": {},
   "outputs": [],
   "source": [
    "def Apriori_association(data, min_support, min_threshold, metric):\n",
    "    \"\"\"\n",
    "    This function is for deducing association rules by implementing apriori algorithm, It takes in data, minimum support,\n",
    "    minimum threshold and metrics as parameters\n",
    "    \"\"\"\n",
    "    frequent_set = apriori(data, min_support= min_support, use_colnames=True)\n",
    "    rules = association_rules(frequent_set, metric=metric,min_threshold=min_threshold)\n",
    "    return rules"
   ]
  },
  {
   "cell_type": "code",
   "execution_count": 17,
   "metadata": {},
   "outputs": [],
   "source": [
    "def Kbest_select(data, cols, target, score_func, k):\n",
    "    \"\"\"\n",
    "    Function for performing feature importance for feature extraction, The parameters are dataframe, feature columns, target\n",
    "    column, function to score with, and number of columns to use\n",
    "    \"\"\"\n",
    "    frame = data.filter(cols, axis=1)# filter only necessary columns from the dataframe and assign it to the variable\n",
    "    X = frame.drop(target, axis= 1) # create features dataframe by droping the target from the dataframe\n",
    "    y= frame[target] # Create the target series\n",
    "    best_features = SelectKBest(score_func= score_func, k= k) # Initialize the algorithm\n",
    "    fit = best_features.fit(X,y) # Fit the algorithm\n",
    "    df_scores = pd.DataFrame(fit.scores_) # Convert scores to a dataframe\n",
    "    df_columns = pd.DataFrame(X.columns) # Convert column names to dataframe\n",
    "    feature_scores = pd.concat([df_columns,df_scores],axis=1) # Concatenate dataframes together\n",
    "    feature_scores.columns = ['features','scores'] # Rename column names\n",
    "    return feature_scores # Return the dataframe"
   ]
  },
  {
   "cell_type": "code",
   "execution_count": 18,
   "metadata": {},
   "outputs": [],
   "source": [
    "def Class_train_test_split(features, label, random_state, test_size, stratify, split_var):\n",
    "    \"\"\"\n",
    "    This is a function to split the dataframe into train and test data, it takes features, label, random_state, test_size\n",
    "    stratify, and variable to store splited data as parameters.\n",
    "    \"\"\"\n",
    "    split_var[0],split_var[1],split_var[2],split_var[3] = train_test_split(features,label,random_state=random_state,test_size=test_size, stratify=stratify) # Split data and assign to variables\n",
    "    print(split_var[0].shape) # Print shape for train features\n",
    "    print(split_var[1].shape) # Print shape for test features\n",
    "    print(split_var[2].shape)# Print shape for train labels\n",
    "    print(split_var[3].shape) # Print shape for test labels\n",
    "    return split_var # Return variables for splitted data"
   ]
  },
  {
   "cell_type": "code",
   "execution_count": 19,
   "metadata": {},
   "outputs": [],
   "source": [
    "def Get_summary_stats_category(data, columns):\n",
    "    '''\n",
    "    This function is for getting summary statistics of dataframe columns, It takes in the dataframe and relevant columns as \n",
    "    parameters, then it uses pandas methods to both get the value_counts and then get columns descriptions using the describe\n",
    "    method. It then prints out the value counts and returns the summary statistics.\n",
    "    '''\n",
    "    stats = data[columns] # Create the stats dataframe\n",
    "    for i in stats.columns : # Loop through the column\n",
    "        mode_score = stats[i].mode()[0] # Get the modal score of features\n",
    "        print(f'modal value for {i} is {mode_score}') # Print the modal score of the feature\n",
    "        print(f'Unique values for {i} is {stats[i].unique()}') # Print Unique values for the feature\n",
    "        print(f'The number of unique values for {i} is {stats[i].nunique()}') # Print Number of Unique values for the feture\n",
    "        print(f' The frequency for {mode_score} is : {stats[i].value_counts()[mode_score]}') # To get the frequency of the modal score\n",
    "        modal_percent = (stats[i].value_counts()[mode_score]/len(stats[i]) * 100) # To calculate the modal percentage\n",
    "                         \n",
    "        print(f'The percentage of the modal score in the distribution is {modal_percent}') # Print the modal percentage\n",
    "        return stats[i].value_counts().nlargest(10) # return the value_counts for the columns\n"
   ]
  },
  {
   "cell_type": "code",
   "execution_count": 20,
   "metadata": {},
   "outputs": [],
   "source": [
    "def lets_encode(df, cols, package, encoder = None) :\n",
    "    \"\"\"\n",
    "Function For Encoding Categorical Features, various methods for encoding are included in this function, to choose a\n",
    "method,\n",
    "Parameters :\n",
    "df = Dataframe\n",
    "cols = column or columns needed\n",
    "package = method of packages to use which can be : le, ce_oe,oh,du,fe,mt\n",
    "we provide the following short form of methods with its meaning as follows :\n",
    "le = Label Encoding\n",
    "ce_oe = categorical encoders Ordinal Encoding\n",
    "oh = One hot encoding\n",
    "du = dummy encoding\n",
    "fe = frequency encoding\n",
    "mt = mean target encoding\n",
    "\n",
    "encoder = external method needed for encoding\n",
    "    \"\"\"\n",
    "    encoded_df = df[cols] #Define dataframe to be encoded\n",
    "    if package == \"le\" : # Check for the condition of label encoding\n",
    "        encoded_df = encoded_df.apply(encoder.fit_transform) # Encode the dataframe\n",
    "        return encoded_df # return the encoded feature\n",
    "    elif package == \"ce_oe\" : # Check for categorical encoding condition\n",
    "        encoded_df = encoder.fit_transform(encoded_df) # Fit and transform the data using categorical encoding\n",
    "        return encoded_df # Return encoded feature\n",
    "    elif package == \"oh\" : # Check for one hot encoding condition\n",
    "        encoded_df = pd.DataFrame(encoder.fit_transform(encoded_df).toarray()) # fit and transform features using one hot encoding\n",
    "        return encoded_df # Return the encoded data\n",
    "    elif package == \"du\" : # Check condition for get dummy \n",
    "        encoded_df = pd.get_dummies(df[cols]) # Dummy the features\n",
    "        return encoded_df # Return encoded features\n",
    "    elif package == 'fe' : # Check for the frequency encoder\n",
    "        encoded_df = df[cols] # Create a dataframe for the encoder\n",
    "        y = encoded_df.groupby(cols).size().reset_index() # Groupby the frequency of the values of the features to encode\n",
    "        y.columns = [cols[0], 'freq'+cols[0]] # Change the column names to the groupby names\n",
    "        encoded_df = pd.merge(encoded_df,y,on = cols[0], how = 'left') # Merge with dataframe\n",
    "        return encoded_df # return encoded features\n",
    "    elif package == \"mt\" : #Check for mean target encoding\n",
    "        encoded_df = df[cols] # Create its dataframe\n",
    "        x = encoded_df.groupby([cols[0]])[cols[1]].sum().reset_index() # Get the feature sum by grouping by the feature and target then getting the sum.\n",
    "        x = x.rename(columns={cols[1]:cols[0]+\"_\"+cols[1]+\"_sum\"})# rename the columns to the grouped columns names\n",
    "\n",
    "        y = encoded_df.groupby([cols[0]])[cols[1]].count().reset_index()# get feature counts by groupby the column to encode and the target\n",
    "        y = y.rename(columns={cols[1] :cols[0]+\"_\"+cols[1]+\"_Count\"}) # Rename the count columns\n",
    "\n",
    "        z = pd.merge(x,y,on = cols[0], how = 'inner') # Merge the columns together\n",
    "\n",
    "        z['Target_enc_levels'] = z[cols[0]+\"_\"+cols[1]+\"_sum\"]/z[cols[0]+\"_\"+cols[1]+\"_Count\"] # Create a new feature by geting the mean \n",
    "        encoded_df = pd.merge(encoded_df,z,on = cols[0], how = 'left') # Merge it with the dataframe\n",
    "\n",
    "        return encoded_df # Return the encoded feature"
   ]
  },
  {
   "cell_type": "code",
   "execution_count": 21,
   "metadata": {},
   "outputs": [],
   "source": [
    " def model_classifier(train_features, train_label, test_features, test_label, model_list,predicted_list,type_ave = 'weighted' ):\n",
    "    \"\"\"\n",
    "    Function to build four classification models using four different algorithms and output their metrics.\n",
    "    It takes train_features, train_label, test_features, test_label,List of model variables, list of predicted variables.\n",
    "    Average type for F1 score\n",
    "    \"\"\"\n",
    "    model_list[0]= LogisticRegression() # Create an object of logistic regression\n",
    "    model_list[0].fit(train_features,train_label) # Fit train data to the object\n",
    "    predicted_list[0] = model_list[0].predict(test_features) # Use the trained object to predict test labels using the test features\n",
    "    print(f'Accuracy score for LogisticRegession is :{accuracy_score(test_label,predicted_list[0])}') # Evaluate the model with accuracy_score\n",
    "    print(f'F1_score score for LogisticRegession is :{f1_score(test_label,predicted_list[0],average = type_ave)}') # Evaluate the model with f1_score\n",
    "    print(f'Accuracy score for LogisticRegession is :{confusion_matrix(test_label,predicted_list[0])}') # Evaluate the model with confusion_matrix\n",
    "    print(classification_report(test_label,predicted_list[0])) # Evaluate the model with classification report\n",
    "    print('_________________________________________________________') # Create a demacation line\n",
    "    model_list[1]= KNeighborsClassifier() # Create an object of KNeighbors Classifier\n",
    "    model_list[1].fit(train_features,train_label) # Fit train data to the object\n",
    "    predicted_list[1] = model_list[1].predict(test_features) # Use the trained object to predict test labels using the test features\n",
    "    print(f'Accuracy score for KNeighboursClassifier is :{accuracy_score(test_label,predicted_list[1])}') # Evaluate the model with accuracy_score\n",
    "    print(f'F1_score score for KNeighboursClassifier is :{f1_score(test_label,predicted_list[1],average =type_ave)}') # Evaluate the model with f1_score\n",
    "    print(f'Confusion Matrix for KNeighboursClassifier is :{confusion_matrix(test_label,predicted_list[1])}') # Evaluate the model with confusion_matrix\n",
    "    print(classification_report(test_label,predicted_list[1])) # Evaluate the model with classification report\n",
    "    print('_________________________________________________________') # Create a demacation line\n",
    "    model_list[2]= RandomForestClassifier() # Create an object of RandomForest Classifier\n",
    "    model_list[2].fit(train_features,train_label) # Fit train data to the object\n",
    "    predicted_list[2] = model_list[2].predict(test_features) # Use the trained object to predict test labels using the test features\n",
    "    print(f'Accuracy score for RandomForestClassifier is :{accuracy_score(test_label,predicted_list[2])}') # Evaluate the model with accuracy_score\n",
    "    print(f'F1_score score for RandomForestClassifier is :{f1_score(test_label,predicted_list[2],average= type_ave)}') # Evaluate the model with f1_score\n",
    "    print(f'Confusion_matrix for RandomForestClassifier is :{confusion_matrix(test_label,predicted_list[2])}') # Evaluate the model with confusion_matrix\n",
    "    print(classification_report(test_label,predicted_list[2])) # Evaluate the model with classification report\n",
    "    print('_________________________________________________________') # Create a demacation line\n",
    "    model_list[3]= GradientBoostingClassifier() # Create an object of GradientBoosting Classifier\n",
    "    model_list[3].fit(train_features,train_label) # Fit train data to the object\n",
    "    predicted_list[3] = model_list[3].predict(test_features) # Use the trained object to predict test labels using the test features\n",
    "    print(f'Accuracy score for GradientBoosting Classifier is :{accuracy_score(test_label,predicted_list[3])}') # Evaluate the model with accuracy_score\n",
    "    print(f'F1_score score for GradientBoosting Classifier is :{f1_score(test_label,predicted_list[3], average= type_ave)}') # Evaluate the model with f1_score\n",
    "    print(f'Confusion Matrix for GradientBoosting Classifier is :{confusion_matrix(test_label,predicted_list[3])}') # Evaluate the model with confusion_matrix\n",
    "    print(classification_report(test_label,predicted_list[3])) # Evaluate the model with classification report\n",
    "    print('_________________________________________________________') # Create a demacation line\n",
    "    model_list[4]= SVC() # Create an object of SVC\n",
    "    model_list[4].fit(train_features,train_label) # Fit train data to the object\n",
    "    predicted_list[4] = model_list[4].predict(test_features) # Use the trained object to predict test labels using the test features\n",
    "    print(f'Accuracy score for SVC is :{accuracy_score(test_label,predicted_list[4])}') # Evaluate the model with accuracy_score\n",
    "    print(f'F1_score score for SVC is :{f1_score(test_label,predicted_list[4], average= type_ave)}') # Evaluate the model with f1_score\n",
    "    print(f'Confusion Matrix for SVC is :{confusion_matrix(test_label,predicted_list[4])}') # Evaluate the model with confusion_matrix\n",
    "    print(classification_report(test_label,predicted_list[4])) # Evaluate the model with classification report\n",
    "    print('_________________________________________________________') # Create a demacation line\n",
    "    model_list[5]= DecisionTreeClassifier() # Create an object of DecisionTreeClassifier\n",
    "    model_list[5].fit(train_features,train_label) # Fit train data to the object\n",
    "    predicted_list[5] = model_list[5].predict(test_features) # Use the trained object to predict test labels using the test features\n",
    "    print(f'Accuracy score for DecisionTreeClassifier is :{accuracy_score(test_label,predicted_list[5])}') # Evaluate the model with accuracy_score\n",
    "    print(f'F1_score score for DecisionTreeClassifier is :{f1_score(test_label,predicted_list[5], average= type_ave)}') # Evaluate the model with f1_score\n",
    "    print(f'Confusion Matrix for DecisionTreeClassifier is :{confusion_matrix(test_label,predicted_list[5])}') # Evaluate the model with confusion_matrix\n",
    "    print(classification_report(test_label,predicted_list[5])) # Evaluate the model with classification report\n",
    "    print('_________________________________________________________') # Create a demacation line\n",
    "    model_list[6]= XGBClassifier() # Create an object of DecisionTreeClassifier\n",
    "    model_list[6].fit(train_features,train_label) # Fit train data to the object\n",
    "    predicted_list[6] = model_list[5].predict(test_features) # Use the trained object to predict test labels using the test features\n",
    "    print(f'Accuracy score for XGBClassifier is :{accuracy_score(test_label,predicted_list[6])}') # Evaluate the model with accuracy_score\n",
    "    print(f'F1_score score for XGBClassifier is :{f1_score(test_label,predicted_list[6], average= type_ave)}') # Evaluate the model with f1_score\n",
    "    print(f'Confusion Matrix for XGBClassifier is :{confusion_matrix(test_label,predicted_list[6])}') # Evaluate the model with confusion_matrix\n",
    "    print(classification_report(test_label,predicted_list[6])) # Evaluate the model with classification report\n",
    "    print('_________________________________________________________') # Create a demacation line"
   ]
  },
  {
   "cell_type": "code",
   "execution_count": 22,
   "metadata": {},
   "outputs": [],
   "source": [
    " def Cross_val_classifier(X, y, n_splits, n_repeats, model_list):\n",
    "    \"\"\"\n",
    "    Function to build four classification models using four different algorithms and output their metrics.\n",
    "    It takes train_features, train_label, test_features, test_label,List of model variables, list of predicted variables.\n",
    "    Average type for F1 score\n",
    "    \"\"\"\n",
    "    model_list[0]= LogisticRegression() # Create an object of logistic regression\n",
    "    cv = RepeatedStratifiedKFold(n_splits=n_splits, n_repeats= n_repeats, random_state=1)\n",
    "    scores = cross_val_score(model_list[0], X, y, scoring='accuracy', cv=cv, n_jobs=-1, error_score='raise')\n",
    "    print(f'scores for {model_list[0]} is {np.mean(scores)}')\n",
    "    print('_________________________________________________________') # Create a demacation line\n",
    "    model_list[1]= KNeighborsClassifier() # Create an object of KNeighbors Classifier\n",
    "    cv = RepeatedStratifiedKFold(n_splits=n_splits, n_repeats=n_repeats, random_state=1)\n",
    "    scores = cross_val_score(model_list[1], X, y, scoring='accuracy', cv=cv, n_jobs=-1, error_score='raise')\n",
    "    print(f'scores for {model_list[1]} is {np.mean(scores)}')\n",
    "    print('_________________________________________________________') # Create a demacation line\n",
    "    model_list[2]= RandomForestClassifier() # Create an object of RandomForest Classifier\n",
    "    cv = RepeatedStratifiedKFold(n_splits=n_splits, n_repeats=n_repeats, random_state=1)\n",
    "    scores = cross_val_score(model_list[2], X, y, scoring='accuracy', cv=cv, n_jobs=-1, error_score='raise')\n",
    "    print(f'scores for {model_list[2]} is {np.mean(scores)}')\n",
    "    print('_________________________________________________________') # Create a demacation line\n",
    "    model_list[3]= GradientBoostingClassifier() # Create an object of GradientBoosting Classifier\n",
    "    cv = RepeatedStratifiedKFold(n_splits=n_splits, n_repeats=n_repeats, random_state=1)\n",
    "    scores = cross_val_score(model_list[3], X, y, scoring='accuracy', cv=cv, n_jobs=-1, error_score='raise')\n",
    "    print(f'scores for {model_list[3]} is {np.mean(scores)}')\n",
    "    print('_________________________________________________________') # Create a demacation line\n",
    "    model_list[4]= SVC() # Create an object of SVC Classifier\n",
    "    cv = RepeatedKFold(n_splits=n_splits, n_repeats=n_repeats, random_state=1)\n",
    "    scores = cross_val_score(model_list[4], X, y, scoring='r2', cv=cv, n_jobs=-1, error_score='raise')\n",
    "    print(f'scores for {model_list[4]} is {np.mean(scores)}')\n",
    "    print('_________________________________________________________') # Create a demacation line\n",
    "    model_list[5]= DecisionTreeClassifier() # Create an object of DecisionTreeClassifier\n",
    "    cv = RepeatedKFold(n_splits=n_splits, n_repeats=n_repeats, random_state=1)\n",
    "    scores = cross_val_score(model_list[5], X, y, scoring='r2', cv=cv, n_jobs=-1, error_score='raise')\n",
    "    print(f'scores for {model_list[5]} is {np.mean(scores)}')\n",
    "    print('_________________________________________________________') # Create a demacation line\n",
    "    model_list[6]= XGBClassifier() # Create an object of XGBClassifier\n",
    "    cv = RepeatedKFold(n_splits=n_splits, n_repeats=n_repeats, random_state=1)\n",
    "    scores = cross_val_score(model_list[6], X, y, scoring='r2', cv=cv, n_jobs=-1, error_score='raise')\n",
    "    print(f'scores for {model_list[6]} is {np.mean(scores)}')\n",
    "    print('_________________________________________________________') # Create a demacation line"
   ]
  },
  {
   "cell_type": "code",
   "execution_count": 23,
   "metadata": {},
   "outputs": [],
   "source": [
    "def Stacking_class(feature:list, target:list, level_0_class:list, level_1_class:str,n_split,stack_method:str,metric:str):\n",
    "    level_0_classifiers = dict()\n",
    "    level_0_classifiers['logreg'] = level_0_class[0]\n",
    "    level_0_classifiers['KNC'] = level_0_class[1]\n",
    "    level_0_classifiers['RanC'] = level_0_class[2]\n",
    "    level_0_classifiers['GBC'] = level_0_class[3]\n",
    "    level_0_classifiers['SVC'] = level_0_class[4]\n",
    "    level_0_classifiers['DTC'] = level_0_class[5]\n",
    "    level_0_classifiers['XGB'] = level_0_class[6]\n",
    "    level_1_classifier = level_1_class\n",
    "    \n",
    "    kfold = StratifiedKFold(n_splits=n_split, shuffle=True, random_state=42)\n",
    "    stacking_model = StackingClassifier(estimators=list(level_0_classifiers.items()),\n",
    "                                    final_estimator=level_1_classifier, passthrough=False,\n",
    "                                    cv=kfold, stack_method=stack_method)\n",
    "    stacking_model.fit_transform(feature[0], target[0])\n",
    "    class_pred = stacking_model.predict(feature[1])\n",
    "    print(f' {metric} of scikit-learn stacking classifier: {metric(target[1], class_pred)}')"
   ]
  },
  {
   "cell_type": "markdown",
   "metadata": {
    "id": "ro-KRpqn5pbB"
   },
   "source": [
    "<a name=\"Data\"></a>\n",
    "## 2. Loading Data"
   ]
  },
  {
   "cell_type": "code",
   "execution_count": 91,
   "metadata": {
    "colab": {
     "base_uri": "https://localhost:8080/",
     "height": 285
    },
    "executionInfo": {
     "elapsed": 1932,
     "status": "ok",
     "timestamp": 1677147628949,
     "user": {
      "displayName": "Nelson Mganga",
      "userId": "15984282569117459010"
     },
     "user_tz": -180
    },
    "id": "uVVX5VLXRuKL",
    "outputId": "8d18c4ac-8b20-490e-d330-063e4dc13cb1"
   },
   "outputs": [
    {
     "data": {
      "text/html": [
       "<div>\n",
       "<style scoped>\n",
       "    .dataframe tbody tr th:only-of-type {\n",
       "        vertical-align: middle;\n",
       "    }\n",
       "\n",
       "    .dataframe tbody tr th {\n",
       "        vertical-align: top;\n",
       "    }\n",
       "\n",
       "    .dataframe thead th {\n",
       "        text-align: right;\n",
       "    }\n",
       "</style>\n",
       "<table border=\"1\" class=\"dataframe\">\n",
       "  <thead>\n",
       "    <tr style=\"text-align: right;\">\n",
       "      <th></th>\n",
       "      <th>ID</th>\n",
       "      <th>I/O Data Operations</th>\n",
       "      <th>I/O Data Bytes</th>\n",
       "      <th>Number of subprocesses</th>\n",
       "      <th>Time on processor</th>\n",
       "      <th>Disk Reading/sec</th>\n",
       "      <th>Disc Writing/sec</th>\n",
       "      <th>Bytes Sent/sent</th>\n",
       "      <th>Received Bytes (HTTP)</th>\n",
       "      <th>Network packets sent</th>\n",
       "      <th>Network packets received</th>\n",
       "      <th>Pages Read/sec</th>\n",
       "      <th>Pages Input/sec</th>\n",
       "      <th>Page Errors/sec</th>\n",
       "      <th>Confirmed byte radius</th>\n",
       "      <th>Label</th>\n",
       "    </tr>\n",
       "  </thead>\n",
       "  <tbody>\n",
       "    <tr>\n",
       "      <th>0</th>\n",
       "      <td>ID_4W8AP96UO6</td>\n",
       "      <td>114.798900</td>\n",
       "      <td>3790.450939</td>\n",
       "      <td>28.0</td>\n",
       "      <td>0.427078</td>\n",
       "      <td>6.162365</td>\n",
       "      <td>21.220403</td>\n",
       "      <td>58.492773</td>\n",
       "      <td>63.959387</td>\n",
       "      <td>0.621206</td>\n",
       "      <td>0.521813</td>\n",
       "      <td>24.624612</td>\n",
       "      <td>0.0</td>\n",
       "      <td>1001.533430</td>\n",
       "      <td>27.190843</td>\n",
       "      <td>1</td>\n",
       "    </tr>\n",
       "    <tr>\n",
       "      <th>1</th>\n",
       "      <td>ID_UD3TM0ZYND</td>\n",
       "      <td>14.154240</td>\n",
       "      <td>5182.451722</td>\n",
       "      <td>28.0</td>\n",
       "      <td>0.138876</td>\n",
       "      <td>5.399498</td>\n",
       "      <td>0.000000</td>\n",
       "      <td>22.886762</td>\n",
       "      <td>29.508369</td>\n",
       "      <td>0.422183</td>\n",
       "      <td>0.444403</td>\n",
       "      <td>0.044440</td>\n",
       "      <td>0.0</td>\n",
       "      <td>1089.121009</td>\n",
       "      <td>30.150941</td>\n",
       "      <td>0</td>\n",
       "    </tr>\n",
       "    <tr>\n",
       "      <th>2</th>\n",
       "      <td>ID_XAG1HC0HWM</td>\n",
       "      <td>0.044444</td>\n",
       "      <td>120.821253</td>\n",
       "      <td>28.0</td>\n",
       "      <td>0.000000</td>\n",
       "      <td>1.577765</td>\n",
       "      <td>0.000000</td>\n",
       "      <td>11.733239</td>\n",
       "      <td>12.888786</td>\n",
       "      <td>0.177776</td>\n",
       "      <td>0.155554</td>\n",
       "      <td>0.044444</td>\n",
       "      <td>0.0</td>\n",
       "      <td>322.464081</td>\n",
       "      <td>28.163287</td>\n",
       "      <td>0</td>\n",
       "    </tr>\n",
       "    <tr>\n",
       "      <th>3</th>\n",
       "      <td>ID_CEXD05IR09</td>\n",
       "      <td>31.369916</td>\n",
       "      <td>127228.251100</td>\n",
       "      <td>31.0</td>\n",
       "      <td>0.523750</td>\n",
       "      <td>15.981107</td>\n",
       "      <td>5.356671</td>\n",
       "      <td>602.125436</td>\n",
       "      <td>6976.986795</td>\n",
       "      <td>3.311801</td>\n",
       "      <td>5.756755</td>\n",
       "      <td>5.623394</td>\n",
       "      <td>0.0</td>\n",
       "      <td>12015.169690</td>\n",
       "      <td>34.204404</td>\n",
       "      <td>0</td>\n",
       "    </tr>\n",
       "    <tr>\n",
       "      <th>4</th>\n",
       "      <td>ID_X6E97FT8IF</td>\n",
       "      <td>5.046181</td>\n",
       "      <td>1091.620117</td>\n",
       "      <td>25.0</td>\n",
       "      <td>0.069468</td>\n",
       "      <td>1.356022</td>\n",
       "      <td>0.000000</td>\n",
       "      <td>16.138887</td>\n",
       "      <td>13.271234</td>\n",
       "      <td>0.155609</td>\n",
       "      <td>0.133379</td>\n",
       "      <td>0.000000</td>\n",
       "      <td>0.0</td>\n",
       "      <td>550.989619</td>\n",
       "      <td>31.466889</td>\n",
       "      <td>1</td>\n",
       "    </tr>\n",
       "  </tbody>\n",
       "</table>\n",
       "</div>"
      ],
      "text/plain": [
       "              ID  I/O Data Operations   I/O Data Bytes  \\\n",
       "0  ID_4W8AP96UO6           114.798900      3790.450939   \n",
       "1  ID_UD3TM0ZYND            14.154240      5182.451722   \n",
       "2  ID_XAG1HC0HWM             0.044444       120.821253   \n",
       "3  ID_CEXD05IR09            31.369916    127228.251100   \n",
       "4  ID_X6E97FT8IF             5.046181      1091.620117   \n",
       "\n",
       "   Number of subprocesses  Time on processor  Disk Reading/sec  \\\n",
       "0                    28.0           0.427078          6.162365   \n",
       "1                    28.0           0.138876          5.399498   \n",
       "2                    28.0           0.000000          1.577765   \n",
       "3                    31.0           0.523750         15.981107   \n",
       "4                    25.0           0.069468          1.356022   \n",
       "\n",
       "   Disc Writing/sec  Bytes Sent/sent  Received Bytes (HTTP)  \\\n",
       "0         21.220403        58.492773              63.959387   \n",
       "1          0.000000        22.886762              29.508369   \n",
       "2          0.000000        11.733239              12.888786   \n",
       "3          5.356671       602.125436            6976.986795   \n",
       "4          0.000000        16.138887              13.271234   \n",
       "\n",
       "   Network packets sent  Network packets received  Pages Read/sec  \\\n",
       "0              0.621206                  0.521813       24.624612   \n",
       "1              0.422183                  0.444403        0.044440   \n",
       "2              0.177776                  0.155554        0.044444   \n",
       "3              3.311801                  5.756755        5.623394   \n",
       "4              0.155609                  0.133379        0.000000   \n",
       "\n",
       "   Pages Input/sec  Page Errors/sec  Confirmed byte radius  Label  \n",
       "0              0.0      1001.533430              27.190843      1  \n",
       "1              0.0      1089.121009              30.150941      0  \n",
       "2              0.0       322.464081              28.163287      0  \n",
       "3              0.0     12015.169690              34.204404      0  \n",
       "4              0.0       550.989619              31.466889      1  "
      ]
     },
     "execution_count": 91,
     "metadata": {},
     "output_type": "execute_result"
    }
   ],
   "source": [
    "# Load files\n",
    "train = pd.read_csv('Train_crypto.csv')\n",
    "test = pd.read_csv('Test_crypto.csv')\n",
    "samplesubmission = pd.read_csv('SampleSubmission_crypto.csv')\n",
    "variables = pd.read_csv('Variable_Definitions_crypto.csv')\n",
    "\n",
    "# Preview train dataset\n",
    "train.head()"
   ]
  },
  {
   "cell_type": "code",
   "execution_count": 27,
   "metadata": {
    "colab": {
     "base_uri": "https://localhost:8080/",
     "height": 268
    },
    "executionInfo": {
     "elapsed": 755,
     "status": "ok",
     "timestamp": 1677147632116,
     "user": {
      "displayName": "Nelson Mganga",
      "userId": "15984282569117459010"
     },
     "user_tz": -180
    },
    "id": "J3Nzm28bh-rR",
    "outputId": "73049029-a3f4-4ccf-955d-fbb53b5cb08c"
   },
   "outputs": [
    {
     "data": {
      "text/html": [
       "<div>\n",
       "<style scoped>\n",
       "    .dataframe tbody tr th:only-of-type {\n",
       "        vertical-align: middle;\n",
       "    }\n",
       "\n",
       "    .dataframe tbody tr th {\n",
       "        vertical-align: top;\n",
       "    }\n",
       "\n",
       "    .dataframe thead th {\n",
       "        text-align: right;\n",
       "    }\n",
       "</style>\n",
       "<table border=\"1\" class=\"dataframe\">\n",
       "  <thead>\n",
       "    <tr style=\"text-align: right;\">\n",
       "      <th></th>\n",
       "      <th>ID</th>\n",
       "      <th>I/O Data Operations</th>\n",
       "      <th>I/O Data Bytes</th>\n",
       "      <th>Number of subprocesses</th>\n",
       "      <th>Time on processor</th>\n",
       "      <th>Disk Reading/sec</th>\n",
       "      <th>Disc Writing/sec</th>\n",
       "      <th>Bytes Sent/sent</th>\n",
       "      <th>Received Bytes (HTTP)</th>\n",
       "      <th>Network packets sent</th>\n",
       "      <th>Network packets received</th>\n",
       "      <th>Pages Read/sec</th>\n",
       "      <th>Pages Input/sec</th>\n",
       "      <th>Page Errors/sec</th>\n",
       "      <th>Confirmed byte radius</th>\n",
       "    </tr>\n",
       "  </thead>\n",
       "  <tbody>\n",
       "    <tr>\n",
       "      <th>0</th>\n",
       "      <td>ID_L7RNFK5JC9</td>\n",
       "      <td>32.709430</td>\n",
       "      <td>121124.141400</td>\n",
       "      <td>30.407359</td>\n",
       "      <td>0.496719</td>\n",
       "      <td>3.999064</td>\n",
       "      <td>0.000000</td>\n",
       "      <td>335.565884</td>\n",
       "      <td>737.338490</td>\n",
       "      <td>1.844013</td>\n",
       "      <td>1.910664</td>\n",
       "      <td>0.311038</td>\n",
       "      <td>0.0</td>\n",
       "      <td>726.318848</td>\n",
       "      <td>20.008686</td>\n",
       "    </tr>\n",
       "    <tr>\n",
       "      <th>1</th>\n",
       "      <td>ID_KUTY5K1G5F</td>\n",
       "      <td>2.065990</td>\n",
       "      <td>2029.713475</td>\n",
       "      <td>29.000000</td>\n",
       "      <td>0.000000</td>\n",
       "      <td>3.665467</td>\n",
       "      <td>0.000000</td>\n",
       "      <td>63.845771</td>\n",
       "      <td>41.119875</td>\n",
       "      <td>0.733093</td>\n",
       "      <td>0.577589</td>\n",
       "      <td>0.044430</td>\n",
       "      <td>0.0</td>\n",
       "      <td>385.473839</td>\n",
       "      <td>33.015399</td>\n",
       "    </tr>\n",
       "    <tr>\n",
       "      <th>2</th>\n",
       "      <td>ID_H6PJWKU831</td>\n",
       "      <td>114.524684</td>\n",
       "      <td>3888.550764</td>\n",
       "      <td>28.000000</td>\n",
       "      <td>0.486075</td>\n",
       "      <td>0.777719</td>\n",
       "      <td>0.199985</td>\n",
       "      <td>11.354698</td>\n",
       "      <td>11.332477</td>\n",
       "      <td>0.177764</td>\n",
       "      <td>0.133323</td>\n",
       "      <td>0.000000</td>\n",
       "      <td>0.0</td>\n",
       "      <td>504.828540</td>\n",
       "      <td>30.091141</td>\n",
       "    </tr>\n",
       "    <tr>\n",
       "      <th>3</th>\n",
       "      <td>ID_DNQXNVTXHE</td>\n",
       "      <td>27.036810</td>\n",
       "      <td>5581.324782</td>\n",
       "      <td>25.000000</td>\n",
       "      <td>0.314968</td>\n",
       "      <td>1.789015</td>\n",
       "      <td>0.000000</td>\n",
       "      <td>44.297028</td>\n",
       "      <td>13.430214</td>\n",
       "      <td>0.302369</td>\n",
       "      <td>0.125987</td>\n",
       "      <td>0.000000</td>\n",
       "      <td>0.0</td>\n",
       "      <td>465.950312</td>\n",
       "      <td>22.211252</td>\n",
       "    </tr>\n",
       "    <tr>\n",
       "      <th>4</th>\n",
       "      <td>ID_8CRTF1BJOD</td>\n",
       "      <td>1.177267</td>\n",
       "      <td>176.634467</td>\n",
       "      <td>28.000000</td>\n",
       "      <td>0.000000</td>\n",
       "      <td>1.710369</td>\n",
       "      <td>0.000000</td>\n",
       "      <td>88.161746</td>\n",
       "      <td>57.508380</td>\n",
       "      <td>0.888503</td>\n",
       "      <td>0.777440</td>\n",
       "      <td>0.000000</td>\n",
       "      <td>0.0</td>\n",
       "      <td>771.665166</td>\n",
       "      <td>31.032570</td>\n",
       "    </tr>\n",
       "  </tbody>\n",
       "</table>\n",
       "</div>"
      ],
      "text/plain": [
       "              ID  I/O Data Operations   I/O Data Bytes  \\\n",
       "0  ID_L7RNFK5JC9            32.709430    121124.141400   \n",
       "1  ID_KUTY5K1G5F             2.065990      2029.713475   \n",
       "2  ID_H6PJWKU831           114.524684      3888.550764   \n",
       "3  ID_DNQXNVTXHE            27.036810      5581.324782   \n",
       "4  ID_8CRTF1BJOD             1.177267       176.634467   \n",
       "\n",
       "   Number of subprocesses  Time on processor  Disk Reading/sec  \\\n",
       "0               30.407359           0.496719          3.999064   \n",
       "1               29.000000           0.000000          3.665467   \n",
       "2               28.000000           0.486075          0.777719   \n",
       "3               25.000000           0.314968          1.789015   \n",
       "4               28.000000           0.000000          1.710369   \n",
       "\n",
       "   Disc Writing/sec  Bytes Sent/sent  Received Bytes (HTTP)  \\\n",
       "0          0.000000       335.565884             737.338490   \n",
       "1          0.000000        63.845771              41.119875   \n",
       "2          0.199985        11.354698              11.332477   \n",
       "3          0.000000        44.297028              13.430214   \n",
       "4          0.000000        88.161746              57.508380   \n",
       "\n",
       "   Network packets sent  Network packets received  Pages Read/sec  \\\n",
       "0              1.844013                  1.910664        0.311038   \n",
       "1              0.733093                  0.577589        0.044430   \n",
       "2              0.177764                  0.133323        0.000000   \n",
       "3              0.302369                  0.125987        0.000000   \n",
       "4              0.888503                  0.777440        0.000000   \n",
       "\n",
       "   Pages Input/sec  Page Errors/sec  Confirmed byte radius  \n",
       "0              0.0       726.318848              20.008686  \n",
       "1              0.0       385.473839              33.015399  \n",
       "2              0.0       504.828540              30.091141  \n",
       "3              0.0       465.950312              22.211252  \n",
       "4              0.0       771.665166              31.032570  "
      ]
     },
     "execution_count": 27,
     "metadata": {},
     "output_type": "execute_result"
    }
   ],
   "source": [
    "# Preview test dataset\n",
    "test.head()"
   ]
  },
  {
   "cell_type": "code",
   "execution_count": 29,
   "metadata": {
    "colab": {
     "base_uri": "https://localhost:8080/",
     "height": 206
    },
    "executionInfo": {
     "elapsed": 5,
     "status": "ok",
     "timestamp": 1677147632117,
     "user": {
      "displayName": "Nelson Mganga",
      "userId": "15984282569117459010"
     },
     "user_tz": -180
    },
    "id": "aHFvG2LSipon",
    "outputId": "7c8a4946-b5e6-4983-db19-42ddc39017e5"
   },
   "outputs": [
    {
     "data": {
      "text/html": [
       "<div>\n",
       "<style scoped>\n",
       "    .dataframe tbody tr th:only-of-type {\n",
       "        vertical-align: middle;\n",
       "    }\n",
       "\n",
       "    .dataframe tbody tr th {\n",
       "        vertical-align: top;\n",
       "    }\n",
       "\n",
       "    .dataframe thead th {\n",
       "        text-align: right;\n",
       "    }\n",
       "</style>\n",
       "<table border=\"1\" class=\"dataframe\">\n",
       "  <thead>\n",
       "    <tr style=\"text-align: right;\">\n",
       "      <th></th>\n",
       "      <th>ID</th>\n",
       "      <th>Target</th>\n",
       "    </tr>\n",
       "  </thead>\n",
       "  <tbody>\n",
       "    <tr>\n",
       "      <th>3813</th>\n",
       "      <td>ID_PAWIH292SB</td>\n",
       "      <td>0</td>\n",
       "    </tr>\n",
       "    <tr>\n",
       "      <th>3814</th>\n",
       "      <td>ID_EMPXLFEHRN</td>\n",
       "      <td>0</td>\n",
       "    </tr>\n",
       "    <tr>\n",
       "      <th>3815</th>\n",
       "      <td>ID_437MU86JLQ</td>\n",
       "      <td>0</td>\n",
       "    </tr>\n",
       "    <tr>\n",
       "      <th>3816</th>\n",
       "      <td>ID_TMGB3DFDLX</td>\n",
       "      <td>0</td>\n",
       "    </tr>\n",
       "    <tr>\n",
       "      <th>3817</th>\n",
       "      <td>ID_S2ZV4BHNN5</td>\n",
       "      <td>0</td>\n",
       "    </tr>\n",
       "  </tbody>\n",
       "</table>\n",
       "</div>"
      ],
      "text/plain": [
       "                 ID  Target\n",
       "3813  ID_PAWIH292SB       0\n",
       "3814  ID_EMPXLFEHRN       0\n",
       "3815  ID_437MU86JLQ       0\n",
       "3816  ID_TMGB3DFDLX       0\n",
       "3817  ID_S2ZV4BHNN5       0"
      ]
     },
     "execution_count": 29,
     "metadata": {},
     "output_type": "execute_result"
    }
   ],
   "source": [
    "# Preview sample submission file\n",
    "samplesubmission.tail()"
   ]
  },
  {
   "cell_type": "code",
   "execution_count": 30,
   "metadata": {
    "colab": {
     "base_uri": "https://localhost:8080/"
    },
    "executionInfo": {
     "elapsed": 3,
     "status": "ok",
     "timestamp": 1677147634272,
     "user": {
      "displayName": "Nelson Mganga",
      "userId": "15984282569117459010"
     },
     "user_tz": -180
    },
    "id": "MIYhvh4rirUn",
    "outputId": "8425b455-e6af-44d8-c03e-28fab03f1735"
   },
   "outputs": [
    {
     "data": {
      "text/plain": [
       "((8908, 16), (3818, 15), (3818, 2))"
      ]
     },
     "execution_count": 30,
     "metadata": {},
     "output_type": "execute_result"
    }
   ],
   "source": [
    "# Check size and shape of datasets\n",
    "train.shape, test.shape, samplesubmission.shape"
   ]
  },
  {
   "cell_type": "code",
   "execution_count": 31,
   "metadata": {},
   "outputs": [
    {
     "name": "stdout",
     "output_type": "stream",
     "text": [
      "<class 'pandas.core.frame.DataFrame'>\n",
      "RangeIndex: 8908 entries, 0 to 8907\n",
      "Data columns (total 16 columns):\n",
      " #   Column                    Non-Null Count  Dtype  \n",
      "---  ------                    --------------  -----  \n",
      " 0   ID                        8908 non-null   object \n",
      " 1   I/O Data Operations       8908 non-null   float64\n",
      " 2    I/O Data Bytes           8908 non-null   float64\n",
      " 3   Number of subprocesses    8908 non-null   float64\n",
      " 4   Time on processor         8908 non-null   float64\n",
      " 5   Disk Reading/sec          8908 non-null   float64\n",
      " 6   Disc Writing/sec          8908 non-null   float64\n",
      " 7   Bytes Sent/sent           8908 non-null   float64\n",
      " 8   Received Bytes (HTTP)     8908 non-null   float64\n",
      " 9   Network packets sent      8908 non-null   float64\n",
      " 10  Network packets received  8908 non-null   float64\n",
      " 11  Pages Read/sec            8908 non-null   float64\n",
      " 12  Pages Input/sec           8908 non-null   float64\n",
      " 13  Page Errors/sec           8908 non-null   float64\n",
      " 14  Confirmed byte radius     8908 non-null   float64\n",
      " 15  Label                     8908 non-null   int64  \n",
      "dtypes: float64(14), int64(1), object(1)\n",
      "memory usage: 1.1+ MB\n"
     ]
    }
   ],
   "source": [
    "train.info()"
   ]
  },
  {
   "cell_type": "code",
   "execution_count": 32,
   "metadata": {},
   "outputs": [
    {
     "name": "stdout",
     "output_type": "stream",
     "text": [
      "<class 'pandas.core.frame.DataFrame'>\n",
      "RangeIndex: 3818 entries, 0 to 3817\n",
      "Data columns (total 15 columns):\n",
      " #   Column                    Non-Null Count  Dtype  \n",
      "---  ------                    --------------  -----  \n",
      " 0   ID                        3818 non-null   object \n",
      " 1   I/O Data Operations       3818 non-null   float64\n",
      " 2    I/O Data Bytes           3818 non-null   float64\n",
      " 3   Number of subprocesses    3818 non-null   float64\n",
      " 4   Time on processor         3818 non-null   float64\n",
      " 5   Disk Reading/sec          3818 non-null   float64\n",
      " 6   Disc Writing/sec          3818 non-null   float64\n",
      " 7   Bytes Sent/sent           3818 non-null   float64\n",
      " 8   Received Bytes (HTTP)     3818 non-null   float64\n",
      " 9   Network packets sent      3818 non-null   float64\n",
      " 10  Network packets received  3818 non-null   float64\n",
      " 11  Pages Read/sec            3818 non-null   float64\n",
      " 12  Pages Input/sec           3818 non-null   float64\n",
      " 13  Page Errors/sec           3818 non-null   float64\n",
      " 14  Confirmed byte radius     3818 non-null   float64\n",
      "dtypes: float64(14), object(1)\n",
      "memory usage: 447.6+ KB\n"
     ]
    }
   ],
   "source": [
    "test.info()"
   ]
  },
  {
   "cell_type": "code",
   "execution_count": 33,
   "metadata": {},
   "outputs": [
    {
     "name": "stdout",
     "output_type": "stream",
     "text": [
      "<class 'pandas.core.frame.DataFrame'>\n",
      "RangeIndex: 3818 entries, 0 to 3817\n",
      "Data columns (total 2 columns):\n",
      " #   Column  Non-Null Count  Dtype \n",
      "---  ------  --------------  ----- \n",
      " 0   ID      3818 non-null   object\n",
      " 1   Target  3818 non-null   int64 \n",
      "dtypes: int64(1), object(1)\n",
      "memory usage: 59.8+ KB\n"
     ]
    }
   ],
   "source": [
    "samplesubmission.info()"
   ]
  },
  {
   "cell_type": "markdown",
   "metadata": {
    "id": "KNtwMcKjZk9x"
   },
   "source": [
    "<a name=\"Statistics\"></a>\n",
    "## 3. Statistical Summaries"
   ]
  },
  {
   "cell_type": "code",
   "execution_count": 32,
   "metadata": {
    "colab": {
     "base_uri": "https://localhost:8080/",
     "height": 473
    },
    "executionInfo": {
     "elapsed": 1457,
     "status": "ok",
     "timestamp": 1677147635727,
     "user": {
      "displayName": "Nelson Mganga",
      "userId": "15984282569117459010"
     },
     "user_tz": -180
    },
    "id": "WuCX_FV3it_B",
    "outputId": "353ce822-1eda-4041-95f9-cfbfc31829e2"
   },
   "outputs": [
    {
     "data": {
      "text/html": [
       "<div>\n",
       "<style scoped>\n",
       "    .dataframe tbody tr th:only-of-type {\n",
       "        vertical-align: middle;\n",
       "    }\n",
       "\n",
       "    .dataframe tbody tr th {\n",
       "        vertical-align: top;\n",
       "    }\n",
       "\n",
       "    .dataframe thead th {\n",
       "        text-align: right;\n",
       "    }\n",
       "</style>\n",
       "<table border=\"1\" class=\"dataframe\">\n",
       "  <thead>\n",
       "    <tr style=\"text-align: right;\">\n",
       "      <th></th>\n",
       "      <th>ID</th>\n",
       "      <th>I/O Data Operations</th>\n",
       "      <th>I/O Data Bytes</th>\n",
       "      <th>Number of subprocesses</th>\n",
       "      <th>Time on processor</th>\n",
       "      <th>Disk Reading/sec</th>\n",
       "      <th>Disc Writing/sec</th>\n",
       "      <th>Bytes Sent/sent</th>\n",
       "      <th>Received Bytes (HTTP)</th>\n",
       "      <th>Network packets sent</th>\n",
       "      <th>Network packets received</th>\n",
       "      <th>Pages Read/sec</th>\n",
       "      <th>Pages Input/sec</th>\n",
       "      <th>Page Errors/sec</th>\n",
       "      <th>Confirmed byte radius</th>\n",
       "      <th>Label</th>\n",
       "    </tr>\n",
       "  </thead>\n",
       "  <tbody>\n",
       "    <tr>\n",
       "      <th>count</th>\n",
       "      <td>8908</td>\n",
       "      <td>8908.000000</td>\n",
       "      <td>8.908000e+03</td>\n",
       "      <td>8908.000000</td>\n",
       "      <td>8908.000000</td>\n",
       "      <td>8908.000000</td>\n",
       "      <td>8908.000000</td>\n",
       "      <td>8908.000000</td>\n",
       "      <td>8.908000e+03</td>\n",
       "      <td>8908.000000</td>\n",
       "      <td>8908.000000</td>\n",
       "      <td>8908.000000</td>\n",
       "      <td>8908.000000</td>\n",
       "      <td>8908.000000</td>\n",
       "      <td>8908.000000</td>\n",
       "      <td>8908.000000</td>\n",
       "    </tr>\n",
       "    <tr>\n",
       "      <th>unique</th>\n",
       "      <td>8908</td>\n",
       "      <td>NaN</td>\n",
       "      <td>NaN</td>\n",
       "      <td>NaN</td>\n",
       "      <td>NaN</td>\n",
       "      <td>NaN</td>\n",
       "      <td>NaN</td>\n",
       "      <td>NaN</td>\n",
       "      <td>NaN</td>\n",
       "      <td>NaN</td>\n",
       "      <td>NaN</td>\n",
       "      <td>NaN</td>\n",
       "      <td>NaN</td>\n",
       "      <td>NaN</td>\n",
       "      <td>NaN</td>\n",
       "      <td>NaN</td>\n",
       "    </tr>\n",
       "    <tr>\n",
       "      <th>top</th>\n",
       "      <td>ID_4W8AP96UO6</td>\n",
       "      <td>NaN</td>\n",
       "      <td>NaN</td>\n",
       "      <td>NaN</td>\n",
       "      <td>NaN</td>\n",
       "      <td>NaN</td>\n",
       "      <td>NaN</td>\n",
       "      <td>NaN</td>\n",
       "      <td>NaN</td>\n",
       "      <td>NaN</td>\n",
       "      <td>NaN</td>\n",
       "      <td>NaN</td>\n",
       "      <td>NaN</td>\n",
       "      <td>NaN</td>\n",
       "      <td>NaN</td>\n",
       "      <td>NaN</td>\n",
       "    </tr>\n",
       "    <tr>\n",
       "      <th>freq</th>\n",
       "      <td>1</td>\n",
       "      <td>NaN</td>\n",
       "      <td>NaN</td>\n",
       "      <td>NaN</td>\n",
       "      <td>NaN</td>\n",
       "      <td>NaN</td>\n",
       "      <td>NaN</td>\n",
       "      <td>NaN</td>\n",
       "      <td>NaN</td>\n",
       "      <td>NaN</td>\n",
       "      <td>NaN</td>\n",
       "      <td>NaN</td>\n",
       "      <td>NaN</td>\n",
       "      <td>NaN</td>\n",
       "      <td>NaN</td>\n",
       "      <td>NaN</td>\n",
       "    </tr>\n",
       "    <tr>\n",
       "      <th>mean</th>\n",
       "      <td>NaN</td>\n",
       "      <td>36.429205</td>\n",
       "      <td>1.135564e+05</td>\n",
       "      <td>29.811900</td>\n",
       "      <td>0.496405</td>\n",
       "      <td>5.353260</td>\n",
       "      <td>1.046153</td>\n",
       "      <td>559.546628</td>\n",
       "      <td>1.655804e+04</td>\n",
       "      <td>4.795485</td>\n",
       "      <td>12.625792</td>\n",
       "      <td>0.988036</td>\n",
       "      <td>0.004177</td>\n",
       "      <td>2779.178084</td>\n",
       "      <td>28.436192</td>\n",
       "      <td>0.269870</td>\n",
       "    </tr>\n",
       "    <tr>\n",
       "      <th>std</th>\n",
       "      <td>NaN</td>\n",
       "      <td>75.884647</td>\n",
       "      <td>4.896846e+05</td>\n",
       "      <td>5.691411</td>\n",
       "      <td>1.593626</td>\n",
       "      <td>19.286690</td>\n",
       "      <td>15.667814</td>\n",
       "      <td>1939.745234</td>\n",
       "      <td>9.042803e+04</td>\n",
       "      <td>20.797585</td>\n",
       "      <td>61.246541</td>\n",
       "      <td>12.495768</td>\n",
       "      <td>0.082923</td>\n",
       "      <td>4996.003166</td>\n",
       "      <td>3.970140</td>\n",
       "      <td>0.443917</td>\n",
       "    </tr>\n",
       "    <tr>\n",
       "      <th>min</th>\n",
       "      <td>NaN</td>\n",
       "      <td>0.000000</td>\n",
       "      <td>0.000000e+00</td>\n",
       "      <td>1.000000</td>\n",
       "      <td>0.000000</td>\n",
       "      <td>0.044459</td>\n",
       "      <td>0.000000</td>\n",
       "      <td>1.197890</td>\n",
       "      <td>1.554938e+00</td>\n",
       "      <td>0.022183</td>\n",
       "      <td>0.022183</td>\n",
       "      <td>0.000000</td>\n",
       "      <td>0.000000</td>\n",
       "      <td>16.143987</td>\n",
       "      <td>18.057942</td>\n",
       "      <td>0.000000</td>\n",
       "    </tr>\n",
       "    <tr>\n",
       "      <th>25%</th>\n",
       "      <td>NaN</td>\n",
       "      <td>1.394404</td>\n",
       "      <td>8.136318e+02</td>\n",
       "      <td>27.000000</td>\n",
       "      <td>0.000000</td>\n",
       "      <td>0.755629</td>\n",
       "      <td>0.000000</td>\n",
       "      <td>33.843800</td>\n",
       "      <td>2.737770e+01</td>\n",
       "      <td>0.399999</td>\n",
       "      <td>0.333225</td>\n",
       "      <td>0.000000</td>\n",
       "      <td>0.000000</td>\n",
       "      <td>351.620535</td>\n",
       "      <td>25.266134</td>\n",
       "      <td>0.000000</td>\n",
       "    </tr>\n",
       "    <tr>\n",
       "      <th>50%</th>\n",
       "      <td>NaN</td>\n",
       "      <td>11.613803</td>\n",
       "      <td>4.930482e+03</td>\n",
       "      <td>28.000000</td>\n",
       "      <td>0.034734</td>\n",
       "      <td>1.711077</td>\n",
       "      <td>0.000000</td>\n",
       "      <td>67.366295</td>\n",
       "      <td>8.905770e+01</td>\n",
       "      <td>0.710898</td>\n",
       "      <td>0.635705</td>\n",
       "      <td>0.022222</td>\n",
       "      <td>0.000000</td>\n",
       "      <td>682.943866</td>\n",
       "      <td>28.543826</td>\n",
       "      <td>0.000000</td>\n",
       "    </tr>\n",
       "    <tr>\n",
       "      <th>75%</th>\n",
       "      <td>NaN</td>\n",
       "      <td>34.494953</td>\n",
       "      <td>3.940357e+04</td>\n",
       "      <td>30.000000</td>\n",
       "      <td>0.451350</td>\n",
       "      <td>5.845619</td>\n",
       "      <td>0.022229</td>\n",
       "      <td>221.314810</td>\n",
       "      <td>5.613814e+02</td>\n",
       "      <td>1.555063</td>\n",
       "      <td>1.711155</td>\n",
       "      <td>0.088887</td>\n",
       "      <td>0.000000</td>\n",
       "      <td>1356.673217</td>\n",
       "      <td>30.969542</td>\n",
       "      <td>1.000000</td>\n",
       "    </tr>\n",
       "    <tr>\n",
       "      <th>max</th>\n",
       "      <td>NaN</td>\n",
       "      <td>1795.316255</td>\n",
       "      <td>4.677280e+06</td>\n",
       "      <td>51.000000</td>\n",
       "      <td>25.246148</td>\n",
       "      <td>1064.819285</td>\n",
       "      <td>831.503948</td>\n",
       "      <td>98097.784300</td>\n",
       "      <td>4.812144e+06</td>\n",
       "      <td>1118.878021</td>\n",
       "      <td>3183.701036</td>\n",
       "      <td>475.031124</td>\n",
       "      <td>2.955622</td>\n",
       "      <td>98031.408630</td>\n",
       "      <td>46.784800</td>\n",
       "      <td>1.000000</td>\n",
       "    </tr>\n",
       "  </tbody>\n",
       "</table>\n",
       "</div>"
      ],
      "text/plain": [
       "                   ID  I/O Data Operations   I/O Data Bytes  \\\n",
       "count            8908          8908.000000     8.908000e+03   \n",
       "unique           8908                  NaN              NaN   \n",
       "top     ID_4W8AP96UO6                  NaN              NaN   \n",
       "freq                1                  NaN              NaN   \n",
       "mean              NaN            36.429205     1.135564e+05   \n",
       "std               NaN            75.884647     4.896846e+05   \n",
       "min               NaN             0.000000     0.000000e+00   \n",
       "25%               NaN             1.394404     8.136318e+02   \n",
       "50%               NaN            11.613803     4.930482e+03   \n",
       "75%               NaN            34.494953     3.940357e+04   \n",
       "max               NaN          1795.316255     4.677280e+06   \n",
       "\n",
       "        Number of subprocesses  Time on processor  Disk Reading/sec  \\\n",
       "count              8908.000000        8908.000000       8908.000000   \n",
       "unique                     NaN                NaN               NaN   \n",
       "top                        NaN                NaN               NaN   \n",
       "freq                       NaN                NaN               NaN   \n",
       "mean                 29.811900           0.496405          5.353260   \n",
       "std                   5.691411           1.593626         19.286690   \n",
       "min                   1.000000           0.000000          0.044459   \n",
       "25%                  27.000000           0.000000          0.755629   \n",
       "50%                  28.000000           0.034734          1.711077   \n",
       "75%                  30.000000           0.451350          5.845619   \n",
       "max                  51.000000          25.246148       1064.819285   \n",
       "\n",
       "        Disc Writing/sec  Bytes Sent/sent  Received Bytes (HTTP)  \\\n",
       "count        8908.000000      8908.000000           8.908000e+03   \n",
       "unique               NaN              NaN                    NaN   \n",
       "top                  NaN              NaN                    NaN   \n",
       "freq                 NaN              NaN                    NaN   \n",
       "mean            1.046153       559.546628           1.655804e+04   \n",
       "std            15.667814      1939.745234           9.042803e+04   \n",
       "min             0.000000         1.197890           1.554938e+00   \n",
       "25%             0.000000        33.843800           2.737770e+01   \n",
       "50%             0.000000        67.366295           8.905770e+01   \n",
       "75%             0.022229       221.314810           5.613814e+02   \n",
       "max           831.503948     98097.784300           4.812144e+06   \n",
       "\n",
       "        Network packets sent  Network packets received  Pages Read/sec  \\\n",
       "count            8908.000000               8908.000000     8908.000000   \n",
       "unique                   NaN                       NaN             NaN   \n",
       "top                      NaN                       NaN             NaN   \n",
       "freq                     NaN                       NaN             NaN   \n",
       "mean                4.795485                 12.625792        0.988036   \n",
       "std                20.797585                 61.246541       12.495768   \n",
       "min                 0.022183                  0.022183        0.000000   \n",
       "25%                 0.399999                  0.333225        0.000000   \n",
       "50%                 0.710898                  0.635705        0.022222   \n",
       "75%                 1.555063                  1.711155        0.088887   \n",
       "max              1118.878021               3183.701036      475.031124   \n",
       "\n",
       "        Pages Input/sec  Page Errors/sec  Confirmed byte radius        Label  \n",
       "count       8908.000000      8908.000000            8908.000000  8908.000000  \n",
       "unique              NaN              NaN                    NaN          NaN  \n",
       "top                 NaN              NaN                    NaN          NaN  \n",
       "freq                NaN              NaN                    NaN          NaN  \n",
       "mean           0.004177      2779.178084              28.436192     0.269870  \n",
       "std            0.082923      4996.003166               3.970140     0.443917  \n",
       "min            0.000000        16.143987              18.057942     0.000000  \n",
       "25%            0.000000       351.620535              25.266134     0.000000  \n",
       "50%            0.000000       682.943866              28.543826     0.000000  \n",
       "75%            0.000000      1356.673217              30.969542     1.000000  \n",
       "max            2.955622     98031.408630              46.784800     1.000000  "
      ]
     },
     "execution_count": 32,
     "metadata": {},
     "output_type": "execute_result"
    }
   ],
   "source": [
    "# Train statistical summary\n",
    "train.describe(include = 'all')"
   ]
  },
  {
   "cell_type": "code",
   "execution_count": 33,
   "metadata": {},
   "outputs": [
    {
     "data": {
      "text/html": [
       "<div>\n",
       "<style scoped>\n",
       "    .dataframe tbody tr th:only-of-type {\n",
       "        vertical-align: middle;\n",
       "    }\n",
       "\n",
       "    .dataframe tbody tr th {\n",
       "        vertical-align: top;\n",
       "    }\n",
       "\n",
       "    .dataframe thead th {\n",
       "        text-align: right;\n",
       "    }\n",
       "</style>\n",
       "<table border=\"1\" class=\"dataframe\">\n",
       "  <thead>\n",
       "    <tr style=\"text-align: right;\">\n",
       "      <th></th>\n",
       "      <th>I/O Data Operations</th>\n",
       "      <th>I/O Data Bytes</th>\n",
       "      <th>Number of subprocesses</th>\n",
       "      <th>Time on processor</th>\n",
       "      <th>Disk Reading/sec</th>\n",
       "      <th>Disc Writing/sec</th>\n",
       "      <th>Bytes Sent/sent</th>\n",
       "      <th>Received Bytes (HTTP)</th>\n",
       "      <th>Network packets sent</th>\n",
       "      <th>Network packets received</th>\n",
       "      <th>Pages Read/sec</th>\n",
       "      <th>Pages Input/sec</th>\n",
       "      <th>Page Errors/sec</th>\n",
       "      <th>Confirmed byte radius</th>\n",
       "    </tr>\n",
       "  </thead>\n",
       "  <tbody>\n",
       "    <tr>\n",
       "      <th>count</th>\n",
       "      <td>3818.000000</td>\n",
       "      <td>3.818000e+03</td>\n",
       "      <td>3818.000000</td>\n",
       "      <td>3818.000000</td>\n",
       "      <td>3818.000000</td>\n",
       "      <td>3818.000000</td>\n",
       "      <td>3818.000000</td>\n",
       "      <td>3.818000e+03</td>\n",
       "      <td>3818.000000</td>\n",
       "      <td>3818.000000</td>\n",
       "      <td>3818.000000</td>\n",
       "      <td>3818.000000</td>\n",
       "      <td>3818.000000</td>\n",
       "      <td>3818.000000</td>\n",
       "    </tr>\n",
       "    <tr>\n",
       "      <th>mean</th>\n",
       "      <td>35.454530</td>\n",
       "      <td>1.060442e+05</td>\n",
       "      <td>29.839911</td>\n",
       "      <td>0.470127</td>\n",
       "      <td>5.296448</td>\n",
       "      <td>0.828603</td>\n",
       "      <td>488.208150</td>\n",
       "      <td>1.268135e+04</td>\n",
       "      <td>3.967014</td>\n",
       "      <td>10.028086</td>\n",
       "      <td>1.003517</td>\n",
       "      <td>0.004651</td>\n",
       "      <td>2716.040535</td>\n",
       "      <td>28.501778</td>\n",
       "    </tr>\n",
       "    <tr>\n",
       "      <th>std</th>\n",
       "      <td>63.011557</td>\n",
       "      <td>4.545514e+05</td>\n",
       "      <td>5.644617</td>\n",
       "      <td>1.448820</td>\n",
       "      <td>14.876031</td>\n",
       "      <td>7.904918</td>\n",
       "      <td>1272.047984</td>\n",
       "      <td>5.165837e+04</td>\n",
       "      <td>12.000389</td>\n",
       "      <td>36.156194</td>\n",
       "      <td>11.028148</td>\n",
       "      <td>0.093827</td>\n",
       "      <td>4687.093183</td>\n",
       "      <td>3.947550</td>\n",
       "    </tr>\n",
       "    <tr>\n",
       "      <th>min</th>\n",
       "      <td>0.000000</td>\n",
       "      <td>0.000000e+00</td>\n",
       "      <td>1.000000</td>\n",
       "      <td>0.000000</td>\n",
       "      <td>0.044437</td>\n",
       "      <td>0.000000</td>\n",
       "      <td>1.194623</td>\n",
       "      <td>1.553716e+00</td>\n",
       "      <td>0.022123</td>\n",
       "      <td>0.022123</td>\n",
       "      <td>0.000000</td>\n",
       "      <td>0.000000</td>\n",
       "      <td>28.378620</td>\n",
       "      <td>19.201416</td>\n",
       "    </tr>\n",
       "    <tr>\n",
       "      <th>25%</th>\n",
       "      <td>2.299285</td>\n",
       "      <td>9.115071e+02</td>\n",
       "      <td>27.000000</td>\n",
       "      <td>0.000000</td>\n",
       "      <td>0.764662</td>\n",
       "      <td>0.000000</td>\n",
       "      <td>32.434994</td>\n",
       "      <td>2.717931e+01</td>\n",
       "      <td>0.377905</td>\n",
       "      <td>0.311112</td>\n",
       "      <td>0.000000</td>\n",
       "      <td>0.000000</td>\n",
       "      <td>358.590744</td>\n",
       "      <td>25.259288</td>\n",
       "    </tr>\n",
       "    <tr>\n",
       "      <th>50%</th>\n",
       "      <td>13.334305</td>\n",
       "      <td>5.191336e+03</td>\n",
       "      <td>28.000000</td>\n",
       "      <td>0.034733</td>\n",
       "      <td>1.733196</td>\n",
       "      <td>0.000000</td>\n",
       "      <td>64.647184</td>\n",
       "      <td>8.048330e+01</td>\n",
       "      <td>0.689106</td>\n",
       "      <td>0.622076</td>\n",
       "      <td>0.022222</td>\n",
       "      <td>0.000000</td>\n",
       "      <td>689.966068</td>\n",
       "      <td>28.677677</td>\n",
       "    </tr>\n",
       "    <tr>\n",
       "      <th>75%</th>\n",
       "      <td>37.458978</td>\n",
       "      <td>4.016868e+04</td>\n",
       "      <td>30.000000</td>\n",
       "      <td>0.485925</td>\n",
       "      <td>6.006380</td>\n",
       "      <td>0.022228</td>\n",
       "      <td>209.972965</td>\n",
       "      <td>5.046758e+02</td>\n",
       "      <td>1.533270</td>\n",
       "      <td>1.667070</td>\n",
       "      <td>0.088889</td>\n",
       "      <td>0.000000</td>\n",
       "      <td>1394.976327</td>\n",
       "      <td>31.063223</td>\n",
       "    </tr>\n",
       "    <tr>\n",
       "      <th>max</th>\n",
       "      <td>1024.316376</td>\n",
       "      <td>4.195586e+06</td>\n",
       "      <td>49.000000</td>\n",
       "      <td>14.900905</td>\n",
       "      <td>478.650632</td>\n",
       "      <td>317.548146</td>\n",
       "      <td>14825.920750</td>\n",
       "      <td>1.034951e+06</td>\n",
       "      <td>158.621612</td>\n",
       "      <td>686.529814</td>\n",
       "      <td>358.705681</td>\n",
       "      <td>3.910726</td>\n",
       "      <td>36580.746640</td>\n",
       "      <td>39.513024</td>\n",
       "    </tr>\n",
       "  </tbody>\n",
       "</table>\n",
       "</div>"
      ],
      "text/plain": [
       "       I/O Data Operations   I/O Data Bytes  Number of subprocesses  \\\n",
       "count          3818.000000     3.818000e+03             3818.000000   \n",
       "mean             35.454530     1.060442e+05               29.839911   \n",
       "std              63.011557     4.545514e+05                5.644617   \n",
       "min               0.000000     0.000000e+00                1.000000   \n",
       "25%               2.299285     9.115071e+02               27.000000   \n",
       "50%              13.334305     5.191336e+03               28.000000   \n",
       "75%              37.458978     4.016868e+04               30.000000   \n",
       "max            1024.316376     4.195586e+06               49.000000   \n",
       "\n",
       "       Time on processor  Disk Reading/sec  Disc Writing/sec  Bytes Sent/sent  \\\n",
       "count        3818.000000       3818.000000       3818.000000      3818.000000   \n",
       "mean            0.470127          5.296448          0.828603       488.208150   \n",
       "std             1.448820         14.876031          7.904918      1272.047984   \n",
       "min             0.000000          0.044437          0.000000         1.194623   \n",
       "25%             0.000000          0.764662          0.000000        32.434994   \n",
       "50%             0.034733          1.733196          0.000000        64.647184   \n",
       "75%             0.485925          6.006380          0.022228       209.972965   \n",
       "max            14.900905        478.650632        317.548146     14825.920750   \n",
       "\n",
       "       Received Bytes (HTTP)  Network packets sent  Network packets received  \\\n",
       "count           3.818000e+03           3818.000000               3818.000000   \n",
       "mean            1.268135e+04              3.967014                 10.028086   \n",
       "std             5.165837e+04             12.000389                 36.156194   \n",
       "min             1.553716e+00              0.022123                  0.022123   \n",
       "25%             2.717931e+01              0.377905                  0.311112   \n",
       "50%             8.048330e+01              0.689106                  0.622076   \n",
       "75%             5.046758e+02              1.533270                  1.667070   \n",
       "max             1.034951e+06            158.621612                686.529814   \n",
       "\n",
       "       Pages Read/sec  Pages Input/sec  Page Errors/sec  Confirmed byte radius  \n",
       "count     3818.000000      3818.000000      3818.000000            3818.000000  \n",
       "mean         1.003517         0.004651      2716.040535              28.501778  \n",
       "std         11.028148         0.093827      4687.093183               3.947550  \n",
       "min          0.000000         0.000000        28.378620              19.201416  \n",
       "25%          0.000000         0.000000       358.590744              25.259288  \n",
       "50%          0.022222         0.000000       689.966068              28.677677  \n",
       "75%          0.088889         0.000000      1394.976327              31.063223  \n",
       "max        358.705681         3.910726     36580.746640              39.513024  "
      ]
     },
     "execution_count": 33,
     "metadata": {},
     "output_type": "execute_result"
    }
   ],
   "source": [
    "test.describe()"
   ]
  },
  {
   "cell_type": "code",
   "execution_count": 34,
   "metadata": {},
   "outputs": [
    {
     "data": {
      "text/html": [
       "<div>\n",
       "<style scoped>\n",
       "    .dataframe tbody tr th:only-of-type {\n",
       "        vertical-align: middle;\n",
       "    }\n",
       "\n",
       "    .dataframe tbody tr th {\n",
       "        vertical-align: top;\n",
       "    }\n",
       "\n",
       "    .dataframe thead th {\n",
       "        text-align: right;\n",
       "    }\n",
       "</style>\n",
       "<table border=\"1\" class=\"dataframe\">\n",
       "  <thead>\n",
       "    <tr style=\"text-align: right;\">\n",
       "      <th></th>\n",
       "      <th>Feature</th>\n",
       "      <th>Description</th>\n",
       "    </tr>\n",
       "  </thead>\n",
       "  <tbody>\n",
       "    <tr>\n",
       "      <th>0</th>\n",
       "      <td>I/O Data Operations</td>\n",
       "      <td>Speed at which the process is issuing read and...</td>\n",
       "    </tr>\n",
       "    <tr>\n",
       "      <th>1</th>\n",
       "      <td>I/O Data Bytes</td>\n",
       "      <td>Speed at which the process is reading and writ...</td>\n",
       "    </tr>\n",
       "    <tr>\n",
       "      <th>2</th>\n",
       "      <td>Number of subprocesses</td>\n",
       "      <td>Number of sub-processes that are currently act...</td>\n",
       "    </tr>\n",
       "    <tr>\n",
       "      <th>3</th>\n",
       "      <td>Time on processor</td>\n",
       "      <td>The total time, in seconds, that a process has...</td>\n",
       "    </tr>\n",
       "    <tr>\n",
       "      <th>4</th>\n",
       "      <td>Disk Reading/sec</td>\n",
       "      <td>Speed of disk reading operations</td>\n",
       "    </tr>\n",
       "    <tr>\n",
       "      <th>5</th>\n",
       "      <td>Disc Writing/sec</td>\n",
       "      <td>Speed of writing operations to disk</td>\n",
       "    </tr>\n",
       "    <tr>\n",
       "      <th>6</th>\n",
       "      <td>Confirmed byte radius</td>\n",
       "      <td>The ratio of Memory/Bytes committed and Memory...</td>\n",
       "    </tr>\n",
       "    <tr>\n",
       "      <th>7</th>\n",
       "      <td>Pages Read/sec</td>\n",
       "      <td>Speed rate at which the disk was read in order...</td>\n",
       "    </tr>\n",
       "    <tr>\n",
       "      <th>8</th>\n",
       "      <td>Pages Input/sec</td>\n",
       "      <td>Speed at which pages are written to disk to fr...</td>\n",
       "    </tr>\n",
       "    <tr>\n",
       "      <th>9</th>\n",
       "      <td>Page Errors/sec</td>\n",
       "      <td>This is the average number of pages with fault...</td>\n",
       "    </tr>\n",
       "    <tr>\n",
       "      <th>10</th>\n",
       "      <td>Bytes Sent</td>\n",
       "      <td>The rate at which bytes leave the browser’s HT...</td>\n",
       "    </tr>\n",
       "    <tr>\n",
       "      <th>11</th>\n",
       "      <td>Received Bytes (HTTP)</td>\n",
       "      <td>Speed of bytes arriving to the browser’s HTTP ...</td>\n",
       "    </tr>\n",
       "    <tr>\n",
       "      <th>12</th>\n",
       "      <td>Network packets sent</td>\n",
       "      <td>Speed of sending packets in the TCP protocol</td>\n",
       "    </tr>\n",
       "    <tr>\n",
       "      <th>13</th>\n",
       "      <td>Network packets received</td>\n",
       "      <td>Packet reception speed over the TCP protocol</td>\n",
       "    </tr>\n",
       "  </tbody>\n",
       "</table>\n",
       "</div>"
      ],
      "text/plain": [
       "                     Feature  \\\n",
       "0        I/O Data Operations   \n",
       "1             I/O Data Bytes   \n",
       "2     Number of subprocesses   \n",
       "3          Time on processor   \n",
       "4           Disk Reading/sec   \n",
       "5           Disc Writing/sec   \n",
       "6      Confirmed byte radius   \n",
       "7             Pages Read/sec   \n",
       "8            Pages Input/sec   \n",
       "9            Page Errors/sec   \n",
       "10                Bytes Sent   \n",
       "11     Received Bytes (HTTP)   \n",
       "12      Network packets sent   \n",
       "13  Network packets received   \n",
       "\n",
       "                                          Description  \n",
       "0   Speed at which the process is issuing read and...  \n",
       "1   Speed at which the process is reading and writ...  \n",
       "2   Number of sub-processes that are currently act...  \n",
       "3   The total time, in seconds, that a process has...  \n",
       "4                    Speed of disk reading operations  \n",
       "5                 Speed of writing operations to disk  \n",
       "6   The ratio of Memory/Bytes committed and Memory...  \n",
       "7   Speed rate at which the disk was read in order...  \n",
       "8   Speed at which pages are written to disk to fr...  \n",
       "9   This is the average number of pages with fault...  \n",
       "10  The rate at which bytes leave the browser’s HT...  \n",
       "11  Speed of bytes arriving to the browser’s HTTP ...  \n",
       "12       Speed of sending packets in the TCP protocol  \n",
       "13       Packet reception speed over the TCP protocol  "
      ]
     },
     "execution_count": 34,
     "metadata": {},
     "output_type": "execute_result"
    }
   ],
   "source": [
    "# Let's view the variables\n",
    "variables"
   ]
  },
  {
   "cell_type": "markdown",
   "metadata": {
    "id": "bJNhVNKn5uEE"
   },
   "source": [
    "<a name=\"Missing\"></a>\n",
    "## 4. Missing Values and Duplicates"
   ]
  },
  {
   "cell_type": "code",
   "execution_count": 35,
   "metadata": {
    "colab": {
     "base_uri": "https://localhost:8080/"
    },
    "executionInfo": {
     "elapsed": 3,
     "status": "ok",
     "timestamp": 1677147636422,
     "user": {
      "displayName": "Nelson Mganga",
      "userId": "15984282569117459010"
     },
     "user_tz": -180
    },
    "id": "FAV9X8wxixLs",
    "outputId": "7b9ef45b-25bf-4d1f-e225-f811d2123089"
   },
   "outputs": [
    {
     "data": {
      "text/plain": [
       "(False, False)"
      ]
     },
     "execution_count": 35,
     "metadata": {},
     "output_type": "execute_result"
    }
   ],
   "source": [
    "# Check for missing values\n",
    "train.isnull().sum().any(), test.isnull().sum().any()"
   ]
  },
  {
   "cell_type": "code",
   "execution_count": 36,
   "metadata": {
    "colab": {
     "base_uri": "https://localhost:8080/"
    },
    "executionInfo": {
     "elapsed": 2,
     "status": "ok",
     "timestamp": 1677147638485,
     "user": {
      "displayName": "Nelson Mganga",
      "userId": "15984282569117459010"
     },
     "user_tz": -180
    },
    "id": "O9x0apTajE1C",
    "outputId": "7e2ae7e0-f7b9-4bf9-bf80-725849657210"
   },
   "outputs": [
    {
     "data": {
      "text/plain": [
       "(False, False)"
      ]
     },
     "execution_count": 36,
     "metadata": {},
     "output_type": "execute_result"
    }
   ],
   "source": [
    "# Check for duplicates\n",
    "train.duplicated().any(), test.duplicated().any()"
   ]
  },
  {
   "cell_type": "markdown",
   "metadata": {
    "id": "PmGlVTOPjHKj"
   },
   "source": [
    "There are no missing values or duplicates"
   ]
  },
  {
   "cell_type": "markdown",
   "metadata": {},
   "source": [
    "### Exploratory analysis "
   ]
  },
  {
   "cell_type": "code",
   "execution_count": 37,
   "metadata": {},
   "outputs": [
    {
     "data": {
      "image/png": "[encoded data removed]",
      "text/plain": [
       "<Figure size 640x480 with 1 Axes>"
      ]
     },
     "metadata": {},
     "output_type": "display_data"
    }
   ],
   "source": [
    "#Countplot to get the occurence\n",
    "sns.countplot(data= train, x='Number of subprocesses')\n",
    "plt.tick_params(axis='x', rotation=90)\n",
    "plt.title('A Graph for the Frequency of Number of subprocesses')\n",
    "plt.show()"
   ]
  },
  {
   "cell_type": "code",
   "execution_count": 38,
   "metadata": {},
   "outputs": [
    {
     "data": {
      "image/png": "[encoded data removed]",
      "text/plain": [
       "<Figure size 640x480 with 1 Axes>"
      ]
     },
     "metadata": {},
     "output_type": "display_data"
    }
   ],
   "source": [
    "sns.kdeplot(data= train, x ='Number of subprocesses')\n",
    "plt.title('A Graph for the distribution of Number of subprocesses')\n",
    "plt.show()"
   ]
  },
  {
   "cell_type": "code",
   "execution_count": 39,
   "metadata": {},
   "outputs": [
    {
     "data": {
      "image/png": "[encoded data removed]",
      "text/plain": [
       "<Figure size 640x480 with 1 Axes>"
      ]
     },
     "metadata": {},
     "output_type": "display_data"
    }
   ],
   "source": [
    "train.plot(kind= 'scatter', x ='Number of subprocesses', y = 'Label')\n",
    "plt.title('A Graph for the distribution of Number of subprocesses')\n",
    "plt.show()"
   ]
  },
  {
   "cell_type": "code",
   "execution_count": 40,
   "metadata": {},
   "outputs": [
    {
     "data": {
      "image/png": "[encoded data removed]",
      "text/plain": [
       "<Figure size 640x480 with 1 Axes>"
      ]
     },
     "metadata": {},
     "output_type": "display_data"
    }
   ],
   "source": [
    "sns.kdeplot(data= train, x ='Time on processor')\n",
    "plt.title('A Graph for the distribution of Time on processor')\n",
    "plt.show()"
   ]
  },
  {
   "cell_type": "code",
   "execution_count": 41,
   "metadata": {},
   "outputs": [
    {
     "data": {
      "image/png": "[encoded data removed]",
      "text/plain": [
       "<Figure size 640x480 with 1 Axes>"
      ]
     },
     "metadata": {},
     "output_type": "display_data"
    }
   ],
   "source": [
    "sns.kdeplot(data= train, x ='Disk Reading/sec')\n",
    "plt.title('A Graph for the distribution of Disk Reading/sec')\n",
    "plt.show()"
   ]
  },
  {
   "cell_type": "code",
   "execution_count": 42,
   "metadata": {},
   "outputs": [
    {
     "data": {
      "image/png": "[encoded data removed]",
      "text/plain": [
       "<Figure size 640x480 with 1 Axes>"
      ]
     },
     "metadata": {},
     "output_type": "display_data"
    }
   ],
   "source": [
    "#Countplot to get the modal hour for accident occurence\n",
    "sns.barplot(data= train, x='Disk Reading/sec')\n",
    "plt.tick_params(axis='x', rotation=90)\n",
    "plt.title('A Graph for the distribution of Disk Reading/sec')\n",
    "plt.show()"
   ]
  },
  {
   "cell_type": "code",
   "execution_count": 43,
   "metadata": {},
   "outputs": [
    {
     "data": {
      "image/png": "[encoded data removed]",
      "text/plain": [
       "<Figure size 640x480 with 1 Axes>"
      ]
     },
     "metadata": {},
     "output_type": "display_data"
    }
   ],
   "source": [
    "train.plot(y=['Disk Reading/sec','Disc Writing/sec'])\n",
    "plt.show()"
   ]
  },
  {
   "cell_type": "code",
   "execution_count": 44,
   "metadata": {},
   "outputs": [
    {
     "data": {
      "image/png": "[encoded data removed]",
      "text/plain": [
       "<Figure size 640x480 with 1 Axes>"
      ]
     },
     "metadata": {},
     "output_type": "display_data"
    }
   ],
   "source": [
    "sns.kdeplot(data= train, x ='Disc Writing/sec')\n",
    "plt.title('A Graph for the distribution of Disc Writing/sec')\n",
    "plt.show()"
   ]
  },
  {
   "cell_type": "code",
   "execution_count": 45,
   "metadata": {},
   "outputs": [
    {
     "data": {
      "image/png": "[encoded data removed]",
      "text/plain": [
       "<Figure size 640x480 with 1 Axes>"
      ]
     },
     "metadata": {},
     "output_type": "display_data"
    }
   ],
   "source": [
    "sns.kdeplot(data= train, x ='Received Bytes (HTTP)')\n",
    "plt.title('A Graph for the distribution of Received Bytes (HTTP)')\n",
    "plt.show()"
   ]
  },
  {
   "cell_type": "code",
   "execution_count": 46,
   "metadata": {},
   "outputs": [
    {
     "data": {
      "image/png": "[encoded data removed]",
      "text/plain": [
       "<Figure size 640x480 with 1 Axes>"
      ]
     },
     "metadata": {},
     "output_type": "display_data"
    }
   ],
   "source": [
    "sns.kdeplot(data= train, x ='Network packets sent')\n",
    "plt.title('A Graph for the distribution of Network packets sent')\n",
    "plt.show()"
   ]
  },
  {
   "cell_type": "code",
   "execution_count": 47,
   "metadata": {},
   "outputs": [
    {
     "data": {
      "image/png": "[encoded data removed]",
      "text/plain": [
       "<Figure size 640x480 with 1 Axes>"
      ]
     },
     "metadata": {},
     "output_type": "display_data"
    }
   ],
   "source": [
    "sns.kdeplot(data= train, x ='Network packets received')\n",
    "plt.title('A Graph for the distribution of Network packets received')\n",
    "plt.show()"
   ]
  },
  {
   "cell_type": "markdown",
   "metadata": {
    "id": "6VmqiddbckaX"
   },
   "source": [
    "<a name=\"Class Distribution\"></a>\n",
    "## 5. Target Distribution"
   ]
  },
  {
   "cell_type": "code",
   "execution_count": 51,
   "metadata": {
    "colab": {
     "base_uri": "https://localhost:8080/",
     "height": 404
    },
    "executionInfo": {
     "elapsed": 3,
     "status": "ok",
     "timestamp": 1677147640988,
     "user": {
      "displayName": "Nelson Mganga",
      "userId": "15984282569117459010"
     },
     "user_tz": -180
    },
    "id": "m1jjFtDDjL8w",
    "outputId": "bc2d6321-ba49-48b6-a216-94065e408043"
   },
   "outputs": [
    {
     "data": {
      "image/png": "[encoded data removed]",
      "text/plain": [
       "<Figure size 1200x600 with 1 Axes>"
      ]
     },
     "metadata": {},
     "output_type": "display_data"
    }
   ],
   "source": [
    "# A box plot showing outliers\n",
    "sns.set_style('darkgrid')\n",
    "plt.figure(figsize=(12, 6))\n",
    "sns.countplot(x = 'Label', data = train)\n",
    "plt.title('Target Variable Distribution')\n",
    "plt.show()"
   ]
  },
  {
   "cell_type": "markdown",
   "metadata": {
    "id": "0bwxAzFqkAcW"
   },
   "source": [
    "There is a class imbalance in our dataset"
   ]
  },
  {
   "cell_type": "markdown",
   "metadata": {},
   "source": [
    "We are going to apply Randomoversampling to balance the dataset"
   ]
  },
  {
   "cell_type": "markdown",
   "metadata": {},
   "source": [
    "## FEATURE ENGINEERING"
   ]
  },
  {
   "cell_type": "markdown",
   "metadata": {
    "id": "Dn75q_-4mQ1E"
   },
   "source": [
    "Most features are not strongly correlated with the target"
   ]
  },
  {
   "cell_type": "markdown",
   "metadata": {
    "id": "sOs6JaZJmcgm"
   },
   "source": [
    "<a name=\"Preprocess\"></a>\n",
    "## 6. Modeling"
   ]
  },
  {
   "cell_type": "code",
   "execution_count": 46,
   "metadata": {},
   "outputs": [
    {
     "name": "stdout",
     "output_type": "stream",
     "text": [
      "<class 'pandas.core.frame.DataFrame'>\n",
      "RangeIndex: 8908 entries, 0 to 8907\n",
      "Data columns (total 16 columns):\n",
      " #   Column                    Non-Null Count  Dtype  \n",
      "---  ------                    --------------  -----  \n",
      " 0   ID                        8908 non-null   object \n",
      " 1   I/O Data Operations       8908 non-null   float64\n",
      " 2    I/O Data Bytes           8908 non-null   float64\n",
      " 3   Number of subprocesses    8908 non-null   float64\n",
      " 4   Time on processor         8908 non-null   float64\n",
      " 5   Disk Reading/sec          8908 non-null   float64\n",
      " 6   Disc Writing/sec          8908 non-null   float64\n",
      " 7   Bytes Sent/sent           8908 non-null   float64\n",
      " 8   Received Bytes (HTTP)     8908 non-null   float64\n",
      " 9   Network packets sent      8908 non-null   float64\n",
      " 10  Network packets received  8908 non-null   float64\n",
      " 11  Pages Read/sec            8908 non-null   float64\n",
      " 12  Pages Input/sec           8908 non-null   float64\n",
      " 13  Page Errors/sec           8908 non-null   float64\n",
      " 14  Confirmed byte radius     8908 non-null   float64\n",
      " 15  Label                     8908 non-null   int64  \n",
      "dtypes: float64(14), int64(1), object(1)\n",
      "memory usage: 1.1+ MB\n"
     ]
    }
   ],
   "source": [
    "train.info()"
   ]
  },
  {
   "cell_type": "code",
   "execution_count": 52,
   "metadata": {},
   "outputs": [
    {
     "data": {
      "text/html": [
       "<div>\n",
       "<style scoped>\n",
       "    .dataframe tbody tr th:only-of-type {\n",
       "        vertical-align: middle;\n",
       "    }\n",
       "\n",
       "    .dataframe tbody tr th {\n",
       "        vertical-align: top;\n",
       "    }\n",
       "\n",
       "    .dataframe thead th {\n",
       "        text-align: right;\n",
       "    }\n",
       "</style>\n",
       "<table border=\"1\" class=\"dataframe\">\n",
       "  <thead>\n",
       "    <tr style=\"text-align: right;\">\n",
       "      <th></th>\n",
       "      <th>ID</th>\n",
       "      <th>I/O Data Operations</th>\n",
       "      <th>I/O Data Bytes</th>\n",
       "      <th>Number of subprocesses</th>\n",
       "      <th>Time on processor</th>\n",
       "      <th>Disk Reading/sec</th>\n",
       "      <th>Disc Writing/sec</th>\n",
       "      <th>Bytes Sent/sent</th>\n",
       "      <th>Received Bytes (HTTP)</th>\n",
       "      <th>Network packets sent</th>\n",
       "      <th>Network packets received</th>\n",
       "      <th>Pages Read/sec</th>\n",
       "      <th>Pages Input/sec</th>\n",
       "      <th>Page Errors/sec</th>\n",
       "      <th>Confirmed byte radius</th>\n",
       "      <th>Label</th>\n",
       "    </tr>\n",
       "  </thead>\n",
       "  <tbody>\n",
       "    <tr>\n",
       "      <th>0</th>\n",
       "      <td>ID_4W8AP96UO6</td>\n",
       "      <td>114.798900</td>\n",
       "      <td>3790.450939</td>\n",
       "      <td>28.0</td>\n",
       "      <td>0.427078</td>\n",
       "      <td>6.162365</td>\n",
       "      <td>21.220403</td>\n",
       "      <td>58.492773</td>\n",
       "      <td>63.959387</td>\n",
       "      <td>0.621206</td>\n",
       "      <td>0.521813</td>\n",
       "      <td>24.624612</td>\n",
       "      <td>0.0</td>\n",
       "      <td>1001.533430</td>\n",
       "      <td>27.190843</td>\n",
       "      <td>1</td>\n",
       "    </tr>\n",
       "    <tr>\n",
       "      <th>1</th>\n",
       "      <td>ID_UD3TM0ZYND</td>\n",
       "      <td>14.154240</td>\n",
       "      <td>5182.451722</td>\n",
       "      <td>28.0</td>\n",
       "      <td>0.138876</td>\n",
       "      <td>5.399498</td>\n",
       "      <td>0.000000</td>\n",
       "      <td>22.886762</td>\n",
       "      <td>29.508369</td>\n",
       "      <td>0.422183</td>\n",
       "      <td>0.444403</td>\n",
       "      <td>0.044440</td>\n",
       "      <td>0.0</td>\n",
       "      <td>1089.121009</td>\n",
       "      <td>30.150941</td>\n",
       "      <td>0</td>\n",
       "    </tr>\n",
       "    <tr>\n",
       "      <th>2</th>\n",
       "      <td>ID_XAG1HC0HWM</td>\n",
       "      <td>0.044444</td>\n",
       "      <td>120.821253</td>\n",
       "      <td>28.0</td>\n",
       "      <td>0.000000</td>\n",
       "      <td>1.577765</td>\n",
       "      <td>0.000000</td>\n",
       "      <td>11.733239</td>\n",
       "      <td>12.888786</td>\n",
       "      <td>0.177776</td>\n",
       "      <td>0.155554</td>\n",
       "      <td>0.044444</td>\n",
       "      <td>0.0</td>\n",
       "      <td>322.464081</td>\n",
       "      <td>28.163287</td>\n",
       "      <td>0</td>\n",
       "    </tr>\n",
       "    <tr>\n",
       "      <th>3</th>\n",
       "      <td>ID_CEXD05IR09</td>\n",
       "      <td>31.369916</td>\n",
       "      <td>127228.251100</td>\n",
       "      <td>31.0</td>\n",
       "      <td>0.523750</td>\n",
       "      <td>15.981107</td>\n",
       "      <td>5.356671</td>\n",
       "      <td>602.125436</td>\n",
       "      <td>6976.986795</td>\n",
       "      <td>3.311801</td>\n",
       "      <td>5.756755</td>\n",
       "      <td>5.623394</td>\n",
       "      <td>0.0</td>\n",
       "      <td>12015.169690</td>\n",
       "      <td>34.204404</td>\n",
       "      <td>0</td>\n",
       "    </tr>\n",
       "    <tr>\n",
       "      <th>4</th>\n",
       "      <td>ID_X6E97FT8IF</td>\n",
       "      <td>5.046181</td>\n",
       "      <td>1091.620117</td>\n",
       "      <td>25.0</td>\n",
       "      <td>0.069468</td>\n",
       "      <td>1.356022</td>\n",
       "      <td>0.000000</td>\n",
       "      <td>16.138887</td>\n",
       "      <td>13.271234</td>\n",
       "      <td>0.155609</td>\n",
       "      <td>0.133379</td>\n",
       "      <td>0.000000</td>\n",
       "      <td>0.0</td>\n",
       "      <td>550.989619</td>\n",
       "      <td>31.466889</td>\n",
       "      <td>1</td>\n",
       "    </tr>\n",
       "  </tbody>\n",
       "</table>\n",
       "</div>"
      ],
      "text/plain": [
       "              ID  I/O Data Operations   I/O Data Bytes  \\\n",
       "0  ID_4W8AP96UO6           114.798900      3790.450939   \n",
       "1  ID_UD3TM0ZYND            14.154240      5182.451722   \n",
       "2  ID_XAG1HC0HWM             0.044444       120.821253   \n",
       "3  ID_CEXD05IR09            31.369916    127228.251100   \n",
       "4  ID_X6E97FT8IF             5.046181      1091.620117   \n",
       "\n",
       "   Number of subprocesses  Time on processor  Disk Reading/sec  \\\n",
       "0                    28.0           0.427078          6.162365   \n",
       "1                    28.0           0.138876          5.399498   \n",
       "2                    28.0           0.000000          1.577765   \n",
       "3                    31.0           0.523750         15.981107   \n",
       "4                    25.0           0.069468          1.356022   \n",
       "\n",
       "   Disc Writing/sec  Bytes Sent/sent  Received Bytes (HTTP)  \\\n",
       "0         21.220403        58.492773              63.959387   \n",
       "1          0.000000        22.886762              29.508369   \n",
       "2          0.000000        11.733239              12.888786   \n",
       "3          5.356671       602.125436            6976.986795   \n",
       "4          0.000000        16.138887              13.271234   \n",
       "\n",
       "   Network packets sent  Network packets received  Pages Read/sec  \\\n",
       "0              0.621206                  0.521813       24.624612   \n",
       "1              0.422183                  0.444403        0.044440   \n",
       "2              0.177776                  0.155554        0.044444   \n",
       "3              3.311801                  5.756755        5.623394   \n",
       "4              0.155609                  0.133379        0.000000   \n",
       "\n",
       "   Pages Input/sec  Page Errors/sec  Confirmed byte radius  Label  \n",
       "0              0.0      1001.533430              27.190843      1  \n",
       "1              0.0      1089.121009              30.150941      0  \n",
       "2              0.0       322.464081              28.163287      0  \n",
       "3              0.0     12015.169690              34.204404      0  \n",
       "4              0.0       550.989619              31.466889      1  "
      ]
     },
     "execution_count": 52,
     "metadata": {},
     "output_type": "execute_result"
    }
   ],
   "source": [
    "train.head()"
   ]
  },
  {
   "cell_type": "code",
   "execution_count": 53,
   "metadata": {},
   "outputs": [],
   "source": [
    "#dropping less important columns\n",
    "train = train.drop(columns = 'ID')"
   ]
  },
  {
   "cell_type": "code",
   "execution_count": 54,
   "metadata": {},
   "outputs": [
    {
     "name": "stdout",
     "output_type": "stream",
     "text": [
      "<class 'pandas.core.frame.DataFrame'>\n",
      "RangeIndex: 8908 entries, 0 to 8907\n",
      "Data columns (total 15 columns):\n",
      " #   Column                    Non-Null Count  Dtype  \n",
      "---  ------                    --------------  -----  \n",
      " 0   I/O Data Operations       8908 non-null   float64\n",
      " 1    I/O Data Bytes           8908 non-null   float64\n",
      " 2   Number of subprocesses    8908 non-null   float64\n",
      " 3   Time on processor         8908 non-null   float64\n",
      " 4   Disk Reading/sec          8908 non-null   float64\n",
      " 5   Disc Writing/sec          8908 non-null   float64\n",
      " 6   Bytes Sent/sent           8908 non-null   float64\n",
      " 7   Received Bytes (HTTP)     8908 non-null   float64\n",
      " 8   Network packets sent      8908 non-null   float64\n",
      " 9   Network packets received  8908 non-null   float64\n",
      " 10  Pages Read/sec            8908 non-null   float64\n",
      " 11  Pages Input/sec           8908 non-null   float64\n",
      " 12  Page Errors/sec           8908 non-null   float64\n",
      " 13  Confirmed byte radius     8908 non-null   float64\n",
      " 14  Label                     8908 non-null   int64  \n",
      "dtypes: float64(14), int64(1)\n",
      "memory usage: 1.0 MB\n"
     ]
    }
   ],
   "source": [
    "#Check dataset\n",
    "train.info()"
   ]
  },
  {
   "cell_type": "code",
   "execution_count": 55,
   "metadata": {
    "colab": {
     "base_uri": "https://localhost:8080/",
     "height": 837
    },
    "executionInfo": {
     "elapsed": 2729,
     "status": "ok",
     "timestamp": 1677147647572,
     "user": {
      "displayName": "Nelson Mganga",
      "userId": "15984282569117459010"
     },
     "user_tz": -180
    },
    "id": "O-alO18wjhIv",
    "outputId": "d41254bd-0507-4cf2-b6c9-e598287d175c"
   },
   "outputs": [
    {
     "data": {
      "image/png": "[encoded data removed]",
      "text/plain": [
       "<Figure size 1500x1200 with 2 Axes>"
      ]
     },
     "metadata": {},
     "output_type": "display_data"
    }
   ],
   "source": [
    "# Plotting a heatmap to show correlations between variables\n",
    "corr = train.corr()\n",
    "plt.figure(figsize = (15, 12))\n",
    "sns.heatmap(corr, cmap='RdYlGn', annot = True, center = 0)\n",
    "plt.title('Correlogram', fontsize = 15, color = 'darkgreen')\n",
    "plt.show()"
   ]
  },
  {
   "cell_type": "code",
   "execution_count": null,
   "metadata": {},
   "outputs": [],
   "source": [
    "import plotly.graph_objs as go\n",
    "from sklearn.feature_selection import SelectKBest, chi2\n",
    "\n",
    "df_new = train.copy()\n",
    "\n",
    "# Extract features and labels\n",
    "X = df_new.drop('Label', axis=1)\n",
    "y = df_new['Label']\n",
    "\n",
    "# Fit SelectKBest with chi2 score function\n",
    "best_features = SelectKBest(score_func=chi2, k='all')\n",
    "fit = best_features.fit(X, y)\n",
    "\n",
    "# Calculate the sum of all feature scores\n",
    "total_score = fit.scores_.sum()\n",
    "\n",
    "# Calculate the percentage contribution of each feature to the total score\n",
    "feature_scores_percentage = (fit.scores_ / total_score) * 100\n",
    "\n",
    "# Create a DataFrame for feature scores and percentages\n",
    "feature_score_percentage_df = pd.DataFrame({\n",
    "    'feature': X.columns,\n",
    "    'score': fit.scores_,\n",
    "    'percentage': feature_scores_percentage\n",
    "})\n",
    "\n",
    "# Sort the DataFrame by percentage in descending order\n",
    "feature_score_percentage_df.sort_values(by='percentage', ascending=False, inplace=True)\n",
    "\n",
    "# Display the top 20 features and their percentages\n",
    "top_features_df = feature_score_percentage_df.head(22)\n",
    "print(top_features_df)\n",
    "\n",
    "# Visualize the results as a bar chart\n",
    "fig = go.Figure(go.Bar(\n",
    "    x=top_features_df['percentage'],\n",
    "    y=top_features_df['feature'],\n",
    "    orientation='h'))\n",
    "\n",
    "fig.update_layout(\n",
    "    title=\"Top 20 Features by Percentage Contribution\",\n",
    "    height=1200,\n",
    "    showlegend=False,\n",
    ")\n",
    "\n",
    "fig.show()\n"
   ]
  },
  {
   "cell_type": "code",
   "execution_count": 57,
   "metadata": {},
   "outputs": [
    {
     "data": {
      "text/html": [
       "<div>\n",
       "<style scoped>\n",
       "    .dataframe tbody tr th:only-of-type {\n",
       "        vertical-align: middle;\n",
       "    }\n",
       "\n",
       "    .dataframe tbody tr th {\n",
       "        vertical-align: top;\n",
       "    }\n",
       "\n",
       "    .dataframe thead th {\n",
       "        text-align: right;\n",
       "    }\n",
       "</style>\n",
       "<table border=\"1\" class=\"dataframe\">\n",
       "  <thead>\n",
       "    <tr style=\"text-align: right;\">\n",
       "      <th></th>\n",
       "      <th>features</th>\n",
       "      <th>scores</th>\n",
       "    </tr>\n",
       "  </thead>\n",
       "  <tbody>\n",
       "    <tr>\n",
       "      <th>0</th>\n",
       "      <td>I/O Data Operations</td>\n",
       "      <td>1.384544e+04</td>\n",
       "    </tr>\n",
       "    <tr>\n",
       "      <th>1</th>\n",
       "      <td>I/O Data Bytes</td>\n",
       "      <td>4.766803e+07</td>\n",
       "    </tr>\n",
       "    <tr>\n",
       "      <th>2</th>\n",
       "      <td>Number of subprocesses</td>\n",
       "      <td>3.327333e+02</td>\n",
       "    </tr>\n",
       "    <tr>\n",
       "      <th>3</th>\n",
       "      <td>Time on processor</td>\n",
       "      <td>3.873789e+01</td>\n",
       "    </tr>\n",
       "    <tr>\n",
       "      <th>4</th>\n",
       "      <td>Disk Reading/sec</td>\n",
       "      <td>1.777446e+03</td>\n",
       "    </tr>\n",
       "    <tr>\n",
       "      <th>5</th>\n",
       "      <td>Disc Writing/sec</td>\n",
       "      <td>1.521520e+01</td>\n",
       "    </tr>\n",
       "    <tr>\n",
       "      <th>6</th>\n",
       "      <td>Confirmed byte radius</td>\n",
       "      <td>1.502522e+02</td>\n",
       "    </tr>\n",
       "    <tr>\n",
       "      <th>7</th>\n",
       "      <td>Pages Read/sec</td>\n",
       "      <td>5.949182e+02</td>\n",
       "    </tr>\n",
       "    <tr>\n",
       "      <th>8</th>\n",
       "      <td>Pages Input/sec</td>\n",
       "      <td>8.473650e+00</td>\n",
       "    </tr>\n",
       "    <tr>\n",
       "      <th>9</th>\n",
       "      <td>Page Errors/sec</td>\n",
       "      <td>1.102837e+06</td>\n",
       "    </tr>\n",
       "    <tr>\n",
       "      <th>10</th>\n",
       "      <td>Bytes Sent/sent</td>\n",
       "      <td>5.583548e+03</td>\n",
       "    </tr>\n",
       "    <tr>\n",
       "      <th>11</th>\n",
       "      <td>Received Bytes (HTTP)</td>\n",
       "      <td>1.214039e+07</td>\n",
       "    </tr>\n",
       "    <tr>\n",
       "      <th>12</th>\n",
       "      <td>Network packets sent</td>\n",
       "      <td>1.362136e+03</td>\n",
       "    </tr>\n",
       "    <tr>\n",
       "      <th>13</th>\n",
       "      <td>Network packets received</td>\n",
       "      <td>5.483810e+03</td>\n",
       "    </tr>\n",
       "  </tbody>\n",
       "</table>\n",
       "</div>"
      ],
      "text/plain": [
       "                    features        scores\n",
       "0        I/O Data Operations  1.384544e+04\n",
       "1             I/O Data Bytes  4.766803e+07\n",
       "2     Number of subprocesses  3.327333e+02\n",
       "3          Time on processor  3.873789e+01\n",
       "4           Disk Reading/sec  1.777446e+03\n",
       "5           Disc Writing/sec  1.521520e+01\n",
       "6      Confirmed byte radius  1.502522e+02\n",
       "7             Pages Read/sec  5.949182e+02\n",
       "8            Pages Input/sec  8.473650e+00\n",
       "9            Page Errors/sec  1.102837e+06\n",
       "10           Bytes Sent/sent  5.583548e+03\n",
       "11     Received Bytes (HTTP)  1.214039e+07\n",
       "12      Network packets sent  1.362136e+03\n",
       "13  Network packets received  5.483810e+03"
      ]
     },
     "execution_count": 57,
     "metadata": {},
     "output_type": "execute_result"
    }
   ],
   "source": [
    "# Check for feature Importance\n",
    "df_train = train[(train['I/O Data Operations']>=0)&(train[' I/O Data Bytes']>=0)&(train['Number of subprocesses']>=0)&(train['Time on processor']>=0)&(train['Disk Reading/sec']>=0)&(train['Disc Writing/sec']>=0)&(train['Confirmed byte radius']>=0)&(train['Pages Read/sec']>=0)&(train['Pages Input/sec']>=0)&(train['Page Errors/sec']>=0)&(train['Bytes Sent/sent']>=0)&(train['Received Bytes (HTTP)']>=0)&(train['Network packets sent']>=0)&(train['Network packets received']>=0)&(train['Label']>=0)]\n",
    "cols = ['I/O Data Operations',' I/O Data Bytes','Number of subprocesses','Time on processor','Disk Reading/sec','Disc Writing/sec','Confirmed byte radius','Pages Read/sec','Pages Input/sec','Page Errors/sec','Bytes Sent/sent','Received Bytes (HTTP)','Network packets sent', 'Network packets received','Label']\n",
    "target_loc = 'Label'\n",
    "Kbest_select(df_train, cols, target_loc, chi2, 'all')"
   ]
  },
  {
   "cell_type": "code",
   "execution_count": 58,
   "metadata": {},
   "outputs": [],
   "source": [
    "# Engineer Features using PCA\n",
    "train_X = train.drop('Label',axis=1)\n",
    "train_y = train['Label']\n",
    "class_data = Scaler(train_X, train_X.columns, 'rbs')\n",
    "principalDf_loc = PrincipalCA(class_data, 3, ['col1','col2','col3'])"
   ]
  },
  {
   "cell_type": "code",
   "execution_count": 53,
   "metadata": {},
   "outputs": [],
   "source": [
    "#scale numerical features for logistic model\n",
    "#features = train.drop(columns=['ID','Label']).columns\n",
    "#target = 'Label'\n",
    "\n",
    "# define standard scaler\n",
    "#scaler = StandardScaler()\n",
    "\n",
    "# transform data\n",
    "#train[features] = scaler.fit_transform(train[features])\n",
    "#test[features] = scaler.transform(test[features])"
   ]
  },
  {
   "cell_type": "code",
   "execution_count": 59,
   "metadata": {},
   "outputs": [],
   "source": [
    "from imblearn.over_sampling import SMOTE\n",
    "from sklearn.utils import shuffle"
   ]
  },
  {
   "cell_type": "code",
   "execution_count": 60,
   "metadata": {},
   "outputs": [],
   "source": [
    "smote = SMOTE(sampling_strategy='minority')\n",
    "\n",
    "# Fit the SMOTE algorithm to the training dataset\n",
    "X_resampled, y_resampled = smote.fit_resample(train_X, train_y)\n",
    "\n",
    "# Combine the original and synthetic samples to create a new, balanced dataset\n",
    "resampled_training_data = pd.concat([X_resampled, y_resampled], axis=1)\n",
    "\n",
    "# Shuffle the new dataset to avoid any ordering bias\n",
    "resampled_training_data = shuffle(resampled_training_data)"
   ]
  },
  {
   "cell_type": "code",
   "execution_count": 61,
   "metadata": {},
   "outputs": [
    {
     "data": {
      "image/png": "[encoded data removed]",
      "text/plain": [
       "<Figure size 1200x600 with 1 Axes>"
      ]
     },
     "metadata": {},
     "output_type": "display_data"
    }
   ],
   "source": [
    "# A box plot showing outliers\n",
    "sns.set_style('darkgrid')\n",
    "plt.figure(figsize=(12, 6))\n",
    "sns.countplot(x = 'Label', data = resampled_training_data)\n",
    "plt.title('Target Variable Distribution')\n",
    "plt.show()"
   ]
  },
  {
   "cell_type": "code",
   "execution_count": 62,
   "metadata": {},
   "outputs": [
    {
     "name": "stdout",
     "output_type": "stream",
     "text": [
      "<class 'pandas.core.frame.DataFrame'>\n",
      "Index: 13008 entries, 3730 to 4020\n",
      "Data columns (total 15 columns):\n",
      " #   Column                    Non-Null Count  Dtype  \n",
      "---  ------                    --------------  -----  \n",
      " 0   I/O Data Operations       13008 non-null  float64\n",
      " 1    I/O Data Bytes           13008 non-null  float64\n",
      " 2   Number of subprocesses    13008 non-null  float64\n",
      " 3   Time on processor         13008 non-null  float64\n",
      " 4   Disk Reading/sec          13008 non-null  float64\n",
      " 5   Disc Writing/sec          13008 non-null  float64\n",
      " 6   Bytes Sent/sent           13008 non-null  float64\n",
      " 7   Received Bytes (HTTP)     13008 non-null  float64\n",
      " 8   Network packets sent      13008 non-null  float64\n",
      " 9   Network packets received  13008 non-null  float64\n",
      " 10  Pages Read/sec            13008 non-null  float64\n",
      " 11  Pages Input/sec           13008 non-null  float64\n",
      " 12  Page Errors/sec           13008 non-null  float64\n",
      " 13  Confirmed byte radius     13008 non-null  float64\n",
      " 14  Label                     13008 non-null  int64  \n",
      "dtypes: float64(14), int64(1)\n",
      "memory usage: 1.6 MB\n"
     ]
    }
   ],
   "source": [
    "resampled_training_data.info()"
   ]
  },
  {
   "cell_type": "code",
   "execution_count": 63,
   "metadata": {},
   "outputs": [],
   "source": [
    "X_train, X_test, y_train, y_test = train_test_split(X_resampled, y_resampled, test_size=.25, random_state=42)"
   ]
  },
  {
   "cell_type": "code",
   "execution_count": 64,
   "metadata": {},
   "outputs": [
    {
     "data": {
      "text/plain": [
       "((9756, 14), (3252, 14))"
      ]
     },
     "execution_count": 64,
     "metadata": {},
     "output_type": "execute_result"
    }
   ],
   "source": [
    "X_train.shape, X_test.shape"
   ]
  },
  {
   "cell_type": "code",
   "execution_count": 65,
   "metadata": {},
   "outputs": [
    {
     "data": {
      "text/html": [
       "<div>\n",
       "<style scoped>\n",
       "    .dataframe tbody tr th:only-of-type {\n",
       "        vertical-align: middle;\n",
       "    }\n",
       "\n",
       "    .dataframe tbody tr th {\n",
       "        vertical-align: top;\n",
       "    }\n",
       "\n",
       "    .dataframe thead th {\n",
       "        text-align: right;\n",
       "    }\n",
       "</style>\n",
       "<table border=\"1\" class=\"dataframe\">\n",
       "  <thead>\n",
       "    <tr style=\"text-align: right;\">\n",
       "      <th></th>\n",
       "      <th>I/O Data Operations</th>\n",
       "      <th>I/O Data Bytes</th>\n",
       "      <th>Number of subprocesses</th>\n",
       "      <th>Time on processor</th>\n",
       "      <th>Disk Reading/sec</th>\n",
       "      <th>Disc Writing/sec</th>\n",
       "      <th>Bytes Sent/sent</th>\n",
       "      <th>Received Bytes (HTTP)</th>\n",
       "      <th>Network packets sent</th>\n",
       "      <th>Network packets received</th>\n",
       "      <th>Pages Read/sec</th>\n",
       "      <th>Pages Input/sec</th>\n",
       "      <th>Page Errors/sec</th>\n",
       "      <th>Confirmed byte radius</th>\n",
       "    </tr>\n",
       "  </thead>\n",
       "  <tbody>\n",
       "    <tr>\n",
       "      <th>7021</th>\n",
       "      <td>21.193539</td>\n",
       "      <td>4852.742804</td>\n",
       "      <td>27.000000</td>\n",
       "      <td>0.138847</td>\n",
       "      <td>0.510955</td>\n",
       "      <td>0.0</td>\n",
       "      <td>10.419046</td>\n",
       "      <td>11.440957</td>\n",
       "      <td>0.155508</td>\n",
       "      <td>0.133293</td>\n",
       "      <td>0.000000</td>\n",
       "      <td>0.0</td>\n",
       "      <td>563.561525</td>\n",
       "      <td>22.205189</td>\n",
       "    </tr>\n",
       "    <tr>\n",
       "      <th>9279</th>\n",
       "      <td>5.070529</td>\n",
       "      <td>1101.736361</td>\n",
       "      <td>26.441958</td>\n",
       "      <td>0.059685</td>\n",
       "      <td>0.728858</td>\n",
       "      <td>0.0</td>\n",
       "      <td>22.704417</td>\n",
       "      <td>15.155416</td>\n",
       "      <td>0.193572</td>\n",
       "      <td>0.117174</td>\n",
       "      <td>0.006194</td>\n",
       "      <td>0.0</td>\n",
       "      <td>39.154759</td>\n",
       "      <td>29.028346</td>\n",
       "    </tr>\n",
       "    <tr>\n",
       "      <th>3919</th>\n",
       "      <td>13.337522</td>\n",
       "      <td>3703.051721</td>\n",
       "      <td>27.000000</td>\n",
       "      <td>0.243141</td>\n",
       "      <td>0.889168</td>\n",
       "      <td>0.0</td>\n",
       "      <td>189.526182</td>\n",
       "      <td>412.151646</td>\n",
       "      <td>0.266750</td>\n",
       "      <td>0.466813</td>\n",
       "      <td>0.022229</td>\n",
       "      <td>0.0</td>\n",
       "      <td>663.630615</td>\n",
       "      <td>23.028131</td>\n",
       "    </tr>\n",
       "    <tr>\n",
       "      <th>7134</th>\n",
       "      <td>5.087063</td>\n",
       "      <td>1107.380332</td>\n",
       "      <td>26.000000</td>\n",
       "      <td>0.034710</td>\n",
       "      <td>1.044070</td>\n",
       "      <td>0.0</td>\n",
       "      <td>93.610847</td>\n",
       "      <td>195.863037</td>\n",
       "      <td>0.444285</td>\n",
       "      <td>0.333214</td>\n",
       "      <td>0.000000</td>\n",
       "      <td>0.0</td>\n",
       "      <td>526.188925</td>\n",
       "      <td>29.310637</td>\n",
       "    </tr>\n",
       "    <tr>\n",
       "      <th>8237</th>\n",
       "      <td>7.221555</td>\n",
       "      <td>3236.678924</td>\n",
       "      <td>28.000000</td>\n",
       "      <td>0.000000</td>\n",
       "      <td>0.888807</td>\n",
       "      <td>0.0</td>\n",
       "      <td>66.571631</td>\n",
       "      <td>60.527745</td>\n",
       "      <td>0.955467</td>\n",
       "      <td>0.866587</td>\n",
       "      <td>0.000000</td>\n",
       "      <td>0.0</td>\n",
       "      <td>298.839074</td>\n",
       "      <td>32.394667</td>\n",
       "    </tr>\n",
       "  </tbody>\n",
       "</table>\n",
       "</div>"
      ],
      "text/plain": [
       "      I/O Data Operations   I/O Data Bytes  Number of subprocesses  \\\n",
       "7021            21.193539      4852.742804               27.000000   \n",
       "9279             5.070529      1101.736361               26.441958   \n",
       "3919            13.337522      3703.051721               27.000000   \n",
       "7134             5.087063      1107.380332               26.000000   \n",
       "8237             7.221555      3236.678924               28.000000   \n",
       "\n",
       "      Time on processor  Disk Reading/sec  Disc Writing/sec  Bytes Sent/sent  \\\n",
       "7021           0.138847          0.510955               0.0        10.419046   \n",
       "9279           0.059685          0.728858               0.0        22.704417   \n",
       "3919           0.243141          0.889168               0.0       189.526182   \n",
       "7134           0.034710          1.044070               0.0        93.610847   \n",
       "8237           0.000000          0.888807               0.0        66.571631   \n",
       "\n",
       "      Received Bytes (HTTP)  Network packets sent  Network packets received  \\\n",
       "7021              11.440957              0.155508                  0.133293   \n",
       "9279              15.155416              0.193572                  0.117174   \n",
       "3919             412.151646              0.266750                  0.466813   \n",
       "7134             195.863037              0.444285                  0.333214   \n",
       "8237              60.527745              0.955467                  0.866587   \n",
       "\n",
       "      Pages Read/sec  Pages Input/sec  Page Errors/sec  Confirmed byte radius  \n",
       "7021        0.000000              0.0       563.561525              22.205189  \n",
       "9279        0.006194              0.0        39.154759              29.028346  \n",
       "3919        0.022229              0.0       663.630615              23.028131  \n",
       "7134        0.000000              0.0       526.188925              29.310637  \n",
       "8237        0.000000              0.0       298.839074              32.394667  "
      ]
     },
     "execution_count": 65,
     "metadata": {},
     "output_type": "execute_result"
    }
   ],
   "source": [
    "X_train.head()"
   ]
  },
  {
   "cell_type": "code",
   "execution_count": 66,
   "metadata": {},
   "outputs": [
    {
     "data": {
      "text/plain": [
       "((9756,), (3252,))"
      ]
     },
     "execution_count": 66,
     "metadata": {},
     "output_type": "execute_result"
    }
   ],
   "source": [
    "y_train.shape, y_test.shape"
   ]
  },
  {
   "cell_type": "code",
   "execution_count": 62,
   "metadata": {},
   "outputs": [],
   "source": [
    "#split train data into train and validation set\n",
    "X_train, X_test, y_train, y_test = train_test_split(X_resampled, \n",
    "                                                    y_resampled.to_frame(),\n",
    "                                                    stratify=y_resampled, #to account for class imbalance\n",
    "                                                    test_size=0.3,\n",
    "                                                    random_state=SEED)"
   ]
  },
  {
   "cell_type": "code",
   "execution_count": 67,
   "metadata": {},
   "outputs": [
    {
     "name": "stdout",
     "output_type": "stream",
     "text": [
      "Accuracy score for LogisticRegession is :0.72539975399754\n",
      "F1_score score for LogisticRegession is :0.7247774603730288\n",
      "Accuracy score for LogisticRegession is :[[1091  514]\n",
      " [ 379 1268]]\n",
      "              precision    recall  f1-score   support\n",
      "\n",
      "           0       0.74      0.68      0.71      1605\n",
      "           1       0.71      0.77      0.74      1647\n",
      "\n",
      "    accuracy                           0.73      3252\n",
      "   macro avg       0.73      0.72      0.72      3252\n",
      "weighted avg       0.73      0.73      0.72      3252\n",
      "\n",
      "_________________________________________________________\n",
      "Accuracy score for KNeighboursClassifier is :0.9157441574415744\n",
      "F1_score score for KNeighboursClassifier is :0.9157235592675087\n",
      "Confusion Matrix for KNeighboursClassifier is :[[1451  154]\n",
      " [ 120 1527]]\n",
      "              precision    recall  f1-score   support\n",
      "\n",
      "           0       0.92      0.90      0.91      1605\n",
      "           1       0.91      0.93      0.92      1647\n",
      "\n",
      "    accuracy                           0.92      3252\n",
      "   macro avg       0.92      0.92      0.92      3252\n",
      "weighted avg       0.92      0.92      0.92      3252\n",
      "\n",
      "_________________________________________________________\n",
      "Accuracy score for RandomForestClassifier is :0.9781672816728167\n",
      "F1_score score for RandomForestClassifier is :0.9781678948809558\n",
      "Confusion_matrix for RandomForestClassifier is :[[1574   31]\n",
      " [  40 1607]]\n",
      "              precision    recall  f1-score   support\n",
      "\n",
      "           0       0.98      0.98      0.98      1605\n",
      "           1       0.98      0.98      0.98      1647\n",
      "\n",
      "    accuracy                           0.98      3252\n",
      "   macro avg       0.98      0.98      0.98      3252\n",
      "weighted avg       0.98      0.98      0.98      3252\n",
      "\n",
      "_________________________________________________________\n",
      "Accuracy score for GradientBoosting Classifier is :0.9428044280442804\n",
      "F1_score score for GradientBoosting Classifier is :0.9427948619749259\n",
      "Confusion Matrix for GradientBoosting Classifier is :[[1499  106]\n",
      " [  80 1567]]\n",
      "              precision    recall  f1-score   support\n",
      "\n",
      "           0       0.95      0.93      0.94      1605\n",
      "           1       0.94      0.95      0.94      1647\n",
      "\n",
      "    accuracy                           0.94      3252\n",
      "   macro avg       0.94      0.94      0.94      3252\n",
      "weighted avg       0.94      0.94      0.94      3252\n",
      "\n",
      "_________________________________________________________\n",
      "Accuracy score for SVC is :0.5661131611316114\n",
      "F1_score score for SVC is :0.5116312397720795\n",
      "Confusion Matrix for SVC is :[[ 368 1237]\n",
      " [ 174 1473]]\n",
      "              precision    recall  f1-score   support\n",
      "\n",
      "           0       0.68      0.23      0.34      1605\n",
      "           1       0.54      0.89      0.68      1647\n",
      "\n",
      "    accuracy                           0.57      3252\n",
      "   macro avg       0.61      0.56      0.51      3252\n",
      "weighted avg       0.61      0.57      0.51      3252\n",
      "\n",
      "_________________________________________________________\n",
      "Accuracy score for DecisionTreeClassifier is :0.9603321033210332\n",
      "F1_score score for DecisionTreeClassifier is :0.9603325422421012\n",
      "Confusion Matrix for DecisionTreeClassifier is :[[1542   63]\n",
      " [  66 1581]]\n",
      "              precision    recall  f1-score   support\n",
      "\n",
      "           0       0.96      0.96      0.96      1605\n",
      "           1       0.96      0.96      0.96      1647\n",
      "\n",
      "    accuracy                           0.96      3252\n",
      "   macro avg       0.96      0.96      0.96      3252\n",
      "weighted avg       0.96      0.96      0.96      3252\n",
      "\n",
      "_________________________________________________________\n",
      "Accuracy score for XGBClassifier is :0.9603321033210332\n",
      "F1_score score for XGBClassifier is :0.9603325422421012\n",
      "Confusion Matrix for XGBClassifier is :[[1542   63]\n",
      " [  66 1581]]\n",
      "              precision    recall  f1-score   support\n",
      "\n",
      "           0       0.96      0.96      0.96      1605\n",
      "           1       0.96      0.96      0.96      1647\n",
      "\n",
      "    accuracy                           0.96      3252\n",
      "   macro avg       0.96      0.96      0.96      3252\n",
      "weighted avg       0.96      0.96      0.96      3252\n",
      "\n",
      "_________________________________________________________\n"
     ]
    }
   ],
   "source": [
    "# Build and evaluate classification model\n",
    "model = model_classifier(X_train,y_train,X_test,y_test,['Log','KNC','RanC','GbC','SVC','DecisionTreeClassifier','XGBClassifier'],\n",
    "                 ['Log_pred','KNC_pred','RanC_pred','GbC_pred','SVC_pred','DTC_pred','XGB_pred'])"
   ]
  },
  {
   "cell_type": "code",
   "execution_count": 68,
   "metadata": {},
   "outputs": [
    {
     "name": "stderr",
     "output_type": "stream",
     "text": [
      "C:\\Users\\ADMIN\\anaconda3_new\\Lib\\site-packages\\sklearn\\linear_model\\_logistic.py:460: ConvergenceWarning: lbfgs failed to converge (status=1):\n",
      "STOP: TOTAL NO. of ITERATIONS REACHED LIMIT.\n",
      "\n",
      "Increase the number of iterations (max_iter) or scale the data as shown in:\n",
      "    https://scikit-learn.org/stable/modules/preprocessing.html\n",
      "Please also refer to the documentation for alternative solver options:\n",
      "    https://scikit-learn.org/stable/modules/linear_model.html#logistic-regression\n",
      "  n_iter_i = _check_optimize_result(\n"
     ]
    },
    {
     "name": "stdout",
     "output_type": "stream",
     "text": [
      " <function accuracy_score at 0x0000020A22ADF560> of scikit-learn stacking classifier: 0.982779827798278\n"
     ]
    }
   ],
   "source": [
    "scores= Stacking_class([X_train,X_test],[y_train,y_test,],\n",
    "                    [LogisticRegression(),KNeighborsClassifier(),RandomForestClassifier(),GradientBoostingClassifier(),SVC(),DecisionTreeClassifier(),XGBClassifier()],\n",
    "                   KNeighborsClassifier(),5,'predict',accuracy_score)"
   ]
  },
  {
   "cell_type": "code",
   "execution_count": null,
   "metadata": {},
   "outputs": [],
   "source": [
    "#0.9795029464514476"
   ]
  },
  {
   "cell_type": "code",
   "execution_count": 70,
   "metadata": {},
   "outputs": [
    {
     "name": "stdout",
     "output_type": "stream",
     "text": [
      "scores for LogisticRegression() is 0.7312528869706486\n",
      "_________________________________________________________\n",
      "scores for KNeighborsClassifier() is 0.7653799206110642\n",
      "_________________________________________________________\n",
      "scores for RandomForestClassifier() is 0.7934448357806022\n",
      "_________________________________________________________\n",
      "scores for GradientBoostingClassifier() is 0.7715542095104139\n",
      "_________________________________________________________\n",
      "scores for SVC() is -0.35209887611918755\n",
      "_________________________________________________________\n",
      "scores for DecisionTreeClassifier() is -0.2139921931266636\n",
      "_________________________________________________________\n",
      "scores for XGBClassifier(base_score=None, booster=None, callbacks=None,\n",
      "              colsample_bylevel=None, colsample_bynode=None,\n",
      "              colsample_bytree=None, early_stopping_rounds=None,\n",
      "              enable_categorical=False, eval_metric=None, feature_types=None,\n",
      "              gamma=None, gpu_id=None, grow_policy=None, importance_type=None,\n",
      "              interaction_constraints=None, learning_rate=None, max_bin=None,\n",
      "              max_cat_threshold=None, max_cat_to_onehot=None,\n",
      "              max_delta_step=None, max_depth=None, max_leaves=None,\n",
      "              min_child_weight=None, missing=nan, monotone_constraints=None,\n",
      "              n_estimators=100, n_jobs=None, num_parallel_tree=None,\n",
      "              predictor=None, random_state=None, ...) is -0.12164691655903707\n",
      "_________________________________________________________\n"
     ]
    }
   ],
   "source": [
    "Scores = Cross_val_classifier(principalDf_loc,train_y,5,1,['Log','KNC','RanC','GbC','SVC','DTC','XGB'])"
   ]
  },
  {
   "cell_type": "code",
   "execution_count": null,
   "metadata": {},
   "outputs": [],
   "source": [
    "Since the "
   ]
  },
  {
   "cell_type": "code",
   "execution_count": 71,
   "metadata": {},
   "outputs": [
    {
     "name": "stdout",
     "output_type": "stream",
     "text": [
      "              precision    recall  f1-score   support\n",
      "\n",
      "           0       0.98      0.98      0.98      1605\n",
      "           1       0.98      0.98      0.98      1647\n",
      "\n",
      "    accuracy                           0.98      3252\n",
      "   macro avg       0.98      0.98      0.98      3252\n",
      "weighted avg       0.98      0.98      0.98      3252\n",
      "\n"
     ]
    }
   ],
   "source": [
    "model= RandomForestClassifier() # Create an object of RandomForest Classifier\n",
    "model.fit(X_train,y_train) # Fit train data to the object\n",
    "predicted_list = model.predict(X_test) # Use the trained object to predict test labels using the test features\n",
    "print(classification_report(y_test,predicted_list)) # Evaluate the model with classification report\n",
    "#print('_________________________________________________________') # Create a demacation line"
   ]
  },
  {
   "cell_type": "code",
   "execution_count": 79,
   "metadata": {},
   "outputs": [],
   "source": [
    "test = test.drop(columns =\"ID\")"
   ]
  },
  {
   "cell_type": "code",
   "execution_count": 80,
   "metadata": {},
   "outputs": [
    {
     "data": {
      "text/html": [
       "<div>\n",
       "<style scoped>\n",
       "    .dataframe tbody tr th:only-of-type {\n",
       "        vertical-align: middle;\n",
       "    }\n",
       "\n",
       "    .dataframe tbody tr th {\n",
       "        vertical-align: top;\n",
       "    }\n",
       "\n",
       "    .dataframe thead th {\n",
       "        text-align: right;\n",
       "    }\n",
       "</style>\n",
       "<table border=\"1\" class=\"dataframe\">\n",
       "  <thead>\n",
       "    <tr style=\"text-align: right;\">\n",
       "      <th></th>\n",
       "      <th>I/O Data Operations</th>\n",
       "      <th>I/O Data Bytes</th>\n",
       "      <th>Number of subprocesses</th>\n",
       "      <th>Time on processor</th>\n",
       "      <th>Disk Reading/sec</th>\n",
       "      <th>Disc Writing/sec</th>\n",
       "      <th>Bytes Sent/sent</th>\n",
       "      <th>Received Bytes (HTTP)</th>\n",
       "      <th>Network packets sent</th>\n",
       "      <th>Network packets received</th>\n",
       "      <th>Pages Read/sec</th>\n",
       "      <th>Pages Input/sec</th>\n",
       "      <th>Page Errors/sec</th>\n",
       "      <th>Confirmed byte radius</th>\n",
       "    </tr>\n",
       "  </thead>\n",
       "  <tbody>\n",
       "    <tr>\n",
       "      <th>0</th>\n",
       "      <td>32.709430</td>\n",
       "      <td>121124.141400</td>\n",
       "      <td>30.407359</td>\n",
       "      <td>0.496719</td>\n",
       "      <td>3.999064</td>\n",
       "      <td>0.000000</td>\n",
       "      <td>335.565884</td>\n",
       "      <td>737.338490</td>\n",
       "      <td>1.844013</td>\n",
       "      <td>1.910664</td>\n",
       "      <td>0.311038</td>\n",
       "      <td>0.0</td>\n",
       "      <td>726.318848</td>\n",
       "      <td>20.008686</td>\n",
       "    </tr>\n",
       "    <tr>\n",
       "      <th>1</th>\n",
       "      <td>2.065990</td>\n",
       "      <td>2029.713475</td>\n",
       "      <td>29.000000</td>\n",
       "      <td>0.000000</td>\n",
       "      <td>3.665467</td>\n",
       "      <td>0.000000</td>\n",
       "      <td>63.845771</td>\n",
       "      <td>41.119875</td>\n",
       "      <td>0.733093</td>\n",
       "      <td>0.577589</td>\n",
       "      <td>0.044430</td>\n",
       "      <td>0.0</td>\n",
       "      <td>385.473839</td>\n",
       "      <td>33.015399</td>\n",
       "    </tr>\n",
       "    <tr>\n",
       "      <th>2</th>\n",
       "      <td>114.524684</td>\n",
       "      <td>3888.550764</td>\n",
       "      <td>28.000000</td>\n",
       "      <td>0.486075</td>\n",
       "      <td>0.777719</td>\n",
       "      <td>0.199985</td>\n",
       "      <td>11.354698</td>\n",
       "      <td>11.332477</td>\n",
       "      <td>0.177764</td>\n",
       "      <td>0.133323</td>\n",
       "      <td>0.000000</td>\n",
       "      <td>0.0</td>\n",
       "      <td>504.828540</td>\n",
       "      <td>30.091141</td>\n",
       "    </tr>\n",
       "    <tr>\n",
       "      <th>3</th>\n",
       "      <td>27.036810</td>\n",
       "      <td>5581.324782</td>\n",
       "      <td>25.000000</td>\n",
       "      <td>0.314968</td>\n",
       "      <td>1.789015</td>\n",
       "      <td>0.000000</td>\n",
       "      <td>44.297028</td>\n",
       "      <td>13.430214</td>\n",
       "      <td>0.302369</td>\n",
       "      <td>0.125987</td>\n",
       "      <td>0.000000</td>\n",
       "      <td>0.0</td>\n",
       "      <td>465.950312</td>\n",
       "      <td>22.211252</td>\n",
       "    </tr>\n",
       "    <tr>\n",
       "      <th>4</th>\n",
       "      <td>1.177267</td>\n",
       "      <td>176.634467</td>\n",
       "      <td>28.000000</td>\n",
       "      <td>0.000000</td>\n",
       "      <td>1.710369</td>\n",
       "      <td>0.000000</td>\n",
       "      <td>88.161746</td>\n",
       "      <td>57.508380</td>\n",
       "      <td>0.888503</td>\n",
       "      <td>0.777440</td>\n",
       "      <td>0.000000</td>\n",
       "      <td>0.0</td>\n",
       "      <td>771.665166</td>\n",
       "      <td>31.032570</td>\n",
       "    </tr>\n",
       "  </tbody>\n",
       "</table>\n",
       "</div>"
      ],
      "text/plain": [
       "   I/O Data Operations   I/O Data Bytes  Number of subprocesses  \\\n",
       "0            32.709430    121124.141400               30.407359   \n",
       "1             2.065990      2029.713475               29.000000   \n",
       "2           114.524684      3888.550764               28.000000   \n",
       "3            27.036810      5581.324782               25.000000   \n",
       "4             1.177267       176.634467               28.000000   \n",
       "\n",
       "   Time on processor  Disk Reading/sec  Disc Writing/sec  Bytes Sent/sent  \\\n",
       "0           0.496719          3.999064          0.000000       335.565884   \n",
       "1           0.000000          3.665467          0.000000        63.845771   \n",
       "2           0.486075          0.777719          0.199985        11.354698   \n",
       "3           0.314968          1.789015          0.000000        44.297028   \n",
       "4           0.000000          1.710369          0.000000        88.161746   \n",
       "\n",
       "   Received Bytes (HTTP)  Network packets sent  Network packets received  \\\n",
       "0             737.338490              1.844013                  1.910664   \n",
       "1              41.119875              0.733093                  0.577589   \n",
       "2              11.332477              0.177764                  0.133323   \n",
       "3              13.430214              0.302369                  0.125987   \n",
       "4              57.508380              0.888503                  0.777440   \n",
       "\n",
       "   Pages Read/sec  Pages Input/sec  Page Errors/sec  Confirmed byte radius  \n",
       "0        0.311038              0.0       726.318848              20.008686  \n",
       "1        0.044430              0.0       385.473839              33.015399  \n",
       "2        0.000000              0.0       504.828540              30.091141  \n",
       "3        0.000000              0.0       465.950312              22.211252  \n",
       "4        0.000000              0.0       771.665166              31.032570  "
      ]
     },
     "execution_count": 80,
     "metadata": {},
     "output_type": "execute_result"
    }
   ],
   "source": [
    "test.head()"
   ]
  },
  {
   "cell_type": "code",
   "execution_count": 81,
   "metadata": {},
   "outputs": [],
   "source": [
    "#make predictions on test set\n",
    "test['Target'] = model.predict(test)"
   ]
  },
  {
   "cell_type": "code",
   "execution_count": 82,
   "metadata": {},
   "outputs": [
    {
     "data": {
      "text/plain": [
       "0    0\n",
       "1    0\n",
       "2    1\n",
       "3    1\n",
       "4    0\n",
       "Name: Target, dtype: int64"
      ]
     },
     "execution_count": 82,
     "metadata": {},
     "output_type": "execute_result"
    }
   ],
   "source": [
    "test['Target'].head()"
   ]
  },
  {
   "cell_type": "code",
   "execution_count": 92,
   "metadata": {},
   "outputs": [],
   "source": [
    "test_data = test.copy()"
   ]
  },
  {
   "cell_type": "code",
   "execution_count": 84,
   "metadata": {},
   "outputs": [],
   "source": [
    "sub = test[['Target']]"
   ]
  },
  {
   "cell_type": "code",
   "execution_count": 85,
   "metadata": {
    "colab": {
     "base_uri": "https://localhost:8080/",
     "height": 206
    },
    "executionInfo": {
     "elapsed": 4,
     "status": "ok",
     "timestamp": 1677147659179,
     "user": {
      "displayName": "Nelson Mganga",
      "userId": "15984282569117459010"
     },
     "user_tz": -180
    },
    "id": "O6hSYXRhtA7m",
    "outputId": "8dc3f6a3-0bc9-4ab4-c1a0-b0e27d641499"
   },
   "outputs": [
    {
     "data": {
      "text/html": [
       "<div>\n",
       "<style scoped>\n",
       "    .dataframe tbody tr th:only-of-type {\n",
       "        vertical-align: middle;\n",
       "    }\n",
       "\n",
       "    .dataframe tbody tr th {\n",
       "        vertical-align: top;\n",
       "    }\n",
       "\n",
       "    .dataframe thead th {\n",
       "        text-align: right;\n",
       "    }\n",
       "</style>\n",
       "<table border=\"1\" class=\"dataframe\">\n",
       "  <thead>\n",
       "    <tr style=\"text-align: right;\">\n",
       "      <th></th>\n",
       "      <th>Target</th>\n",
       "    </tr>\n",
       "  </thead>\n",
       "  <tbody>\n",
       "    <tr>\n",
       "      <th>0</th>\n",
       "      <td>0</td>\n",
       "    </tr>\n",
       "    <tr>\n",
       "      <th>1</th>\n",
       "      <td>0</td>\n",
       "    </tr>\n",
       "    <tr>\n",
       "      <th>2</th>\n",
       "      <td>1</td>\n",
       "    </tr>\n",
       "    <tr>\n",
       "      <th>3</th>\n",
       "      <td>1</td>\n",
       "    </tr>\n",
       "    <tr>\n",
       "      <th>4</th>\n",
       "      <td>0</td>\n",
       "    </tr>\n",
       "  </tbody>\n",
       "</table>\n",
       "</div>"
      ],
      "text/plain": [
       "   Target\n",
       "0       0\n",
       "1       0\n",
       "2       1\n",
       "3       1\n",
       "4       0"
      ]
     },
     "execution_count": 85,
     "metadata": {},
     "output_type": "execute_result"
    }
   ],
   "source": [
    "sub.head()"
   ]
  },
  {
   "cell_type": "code",
   "execution_count": 76,
   "metadata": {
    "id": "XnuWWZsawTPD"
   },
   "outputs": [],
   "source": [
    "sub.to_csv('UHA_23_crypto.csv', index=False)"
   ]
  },
  {
   "cell_type": "code",
   "execution_count": null,
   "metadata": {},
   "outputs": [],
   "source": []
  }
 ],
 "metadata": {
  "colab": {
   "authorship_tag": "ABX9TyOMe5uXibuEJJnU7rFSu4vY",
   "mount_file_id": "1H3GeG5wrF4fLD940eUJNyVMicurgH2KY",
   "provenance": []
  },
  "kernelspec": {
   "display_name": "Python 3 (ipykernel)",
   "language": "python",
   "name": "python3"
  },
  "language_info": {
   "codemirror_mode": {
    "name": "ipython",
    "version": 3
   },
   "file_extension": ".py",
   "mimetype": "text/x-python",
   "name": "python",
   "nbconvert_exporter": "python",
   "pygments_lexer": "ipython3",
   "version": "3.11.4"
  }
 },
 "nbformat": 4,
 "nbformat_minor": 1
}
